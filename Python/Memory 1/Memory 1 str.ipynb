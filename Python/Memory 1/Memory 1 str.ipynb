{
 "cells": [
  {
   "cell_type": "code",
   "execution_count": 1,
   "metadata": {
    "ExecuteTime": {
     "end_time": "2021-04-07T14:34:16.854089Z",
     "start_time": "2021-04-07T14:34:16.841118Z"
    }
   },
   "outputs": [],
   "source": [
    "import pandas as pd\n",
    "import numpy as np\n",
    "import matplotlib.pyplot as plt\n",
    "from sklearn import datasets, linear_model\n",
    "from sklearn.metrics import mean_squared_error, r2_score"
   ]
  },
  {
   "cell_type": "markdown",
   "metadata": {},
   "source": [
    "# # equivalent to always cooperate - D after DD אסטרטגיה 2"
   ]
  },
  {
   "cell_type": "code",
   "execution_count": 8,
   "metadata": {
    "ExecuteTime": {
     "end_time": "2021-04-07T14:51:16.315795Z",
     "start_time": "2021-04-07T14:36:39.914036Z"
    }
   },
   "outputs": [],
   "source": [
    "for i in a:\n",
    "    data = i\n",
    "    for i in range(data.shape[0]):\n",
    "        # אם בסיבוב הראשון שיתוף פעולה אז 1 אחרת 0\n",
    "        if data.iloc[i]['round'] == 1:\n",
    "            if data.iloc[i]['coop'] == 'coop':\n",
    "                 data.loc[i, \"M2\"] = 1\n",
    "            else:\n",
    "                data.loc[i, \"M2\"] = 0\n",
    "\n",
    "        else:\n",
    "            # שניהם שיתפו\n",
    "            if (data.iloc[i-1]['ocoop'] == \"coop\" and  data.iloc[i-1]['coop'] == \"coop\"):\n",
    "                if  data.iloc[i]['coop'] == \"coop\":\n",
    "                    data.loc[i, \"M2\"] = 1\n",
    "                else:\n",
    "                    data.loc[i, \"M2\"] = 0\n",
    "\n",
    "            # אם 1 שיתף ו2 לא שיתף\n",
    "            if (data.iloc[i-1]['ocoop'] == \"defect\" and  data.iloc[i-1]['coop'] == \"coop\"):\n",
    "                if  data.iloc[i]['coop'] == \"coop\":\n",
    "                    data.loc[i, \"M2\"] = 1\n",
    "                else:\n",
    "                    data.loc[i, \"M2\"] = 0\n",
    "\n",
    "            # אם 1 לא שיתף ו2  שיתף\n",
    "            if (data.iloc[i-1]['ocoop'] == \"coop\" and  data.iloc[i-1]['coop'] == \"defect\"):\n",
    "                if  data.iloc[i]['coop'] == \"coop\":\n",
    "                    data.loc[i, \"M2\"] = 1\n",
    "                else:\n",
    "                    data.loc[i, \"M2\"] = 0\n",
    "\n",
    "            # שניהם לא שיתפו\n",
    "            # בחר לא לשתף\n",
    "            if (data.iloc[i-1]['ocoop'] == \"defect\" and  data.iloc[i-1]['coop'] == \"defect\"):\n",
    "                if  data.iloc[i]['coop'] == \"defect\":\n",
    "                    data.loc[i, \"M2\"] = 1\n",
    "                else:\n",
    "                    data.loc[i, \"M2\"] = 0"
   ]
  },
  {
   "cell_type": "code",
   "execution_count": null,
   "metadata": {
    "ExecuteTime": {
     "end_time": "2021-02-24T11:51:27.922047Z",
     "start_time": "2021-02-24T11:51:27.906068Z"
    }
   },
   "outputs": [],
   "source": []
  },
  {
   "cell_type": "markdown",
   "metadata": {},
   "source": [
    "# equivalent to always cooperate - D after Dc אסטרטגיה 3"
   ]
  },
  {
   "cell_type": "code",
   "execution_count": 9,
   "metadata": {
    "ExecuteTime": {
     "end_time": "2021-04-07T15:05:06.925877Z",
     "start_time": "2021-04-07T14:51:16.849121Z"
    }
   },
   "outputs": [],
   "source": [
    "for i in a:\n",
    "    data = i\n",
    "    for i in range(data.shape[0]):\n",
    "        # אם בסיבוב הראשון שיתוף פעולה אז 1 אחרת 0\n",
    "        if data.iloc[i]['round'] == 1:\n",
    "            if data.iloc[i]['coop'] == 'coop':\n",
    "                 data.loc[i, \"M3\"] = 1\n",
    "            else:\n",
    "                data.loc[i, \"M3\"] = 0\n",
    "        # שניהם שיתפו\n",
    "        elif (data.iloc[i-1]['ocoop'] == \"coop\" and  data.iloc[i-1]['coop'] == \"coop\"):\n",
    "            if  data.iloc[i]['coop'] == \"coop\":\n",
    "                data.loc[i, \"M3\"] = 1\n",
    "            else:\n",
    "                data.loc[i, \"M3\"] = 0\n",
    "\n",
    "        # אם 1 שיתף ו2 לא שיתף\n",
    "        elif (data.iloc[i-1]['ocoop'] == \"defect\" and  data.iloc[i-1]['coop'] == \"coop\"):\n",
    "            if  data.iloc[i]['coop'] == \"coop\":\n",
    "                data.loc[i, \"M3\"] = 1\n",
    "            else:\n",
    "                data.loc[i, \"M3\"] = 0\n",
    "\n",
    "        # בחר לא לשתף =1 \n",
    "        # אם 1 לא שיתף ו2  שיתף\n",
    "        elif (data.iloc[i-1]['ocoop'] == \"coop\" and  data.iloc[i-1]['coop'] == \"defect\"):\n",
    "            if  data.iloc[i]['coop'] == \"coop\":\n",
    "                data.loc[i, \"M3\"] = 0\n",
    "            else:\n",
    "                data.loc[i, \"M3\"] = 1\n",
    "\n",
    "        # שניהם לא שיתפו\n",
    "        # בחר לא לשתף\n",
    "        else:\n",
    "            if (data.iloc[i-1]['ocoop'] == \"defect\" and  data.iloc[i-1]['coop'] == \"defect\"):\n",
    "                if  data.iloc[i]['coop'] == \"defect\":\n",
    "                    data.loc[i, \"M3\"] = 0\n",
    "                else:\n",
    "                    data.loc[i, \"M3\"] = 1"
   ]
  },
  {
   "cell_type": "markdown",
   "metadata": {},
   "source": [
    "#  equivalent to always cooperate - D after DC or DD אסטרטגיה 4"
   ]
  },
  {
   "cell_type": "code",
   "execution_count": 10,
   "metadata": {
    "ExecuteTime": {
     "end_time": "2021-04-07T15:18:15.313799Z",
     "start_time": "2021-04-07T15:05:08.268264Z"
    }
   },
   "outputs": [],
   "source": [
    "for i in a:\n",
    "    data = i\n",
    "    for i in range(data.shape[0]):\n",
    "        # אם בסיבוב הראשון שיתוף פעולה אז 1 אחרת 0\n",
    "        if data.iloc[i]['round'] == 1:\n",
    "            if data.iloc[i]['coop'] == 'coop':\n",
    "                 data.loc[i, \"M4\"] = 1\n",
    "            else:\n",
    "                data.loc[i, \"M4\"] = 0\n",
    "        # שניהם שיתפו\n",
    "        elif (data.iloc[i-1]['ocoop'] == \"coop\" and  data.iloc[i-1]['coop'] == \"coop\"):\n",
    "            if  data.iloc[i]['coop'] == \"coop\":\n",
    "                data.loc[i, \"M4\"] = 1\n",
    "            else:\n",
    "                data.loc[i, \"M4\"] = 0\n",
    "\n",
    "        # אם 1 שיתף ו2 לא שיתף\n",
    "        elif (data.iloc[i-1]['ocoop'] == \"defect\" and  data.iloc[i-1]['coop'] == \"coop\"):\n",
    "            if  data.iloc[i]['coop'] == \"coop\":\n",
    "                data.loc[i, \"M4\"] = 1\n",
    "            else:\n",
    "                data.loc[i, \"M4\"] = 0\n",
    "\n",
    "        # אם 1 לא שיתף ו2  שיתף\n",
    "        elif (data.iloc[i-1]['ocoop'] == \"coop\" and  data.iloc[i-1]['coop'] == \"defect\"):\n",
    "            if  data.iloc[i]['coop'] == \"coop\":\n",
    "                data.loc[i, \"M4\"] = 0\n",
    "            else:\n",
    "                data.loc[i, \"M4\"] = 1\n",
    "\n",
    "        # שניהם לא שיתפו\n",
    "        # בחר לא לשתף\n",
    "        else:\n",
    "            if (data.iloc[i-1]['ocoop'] == \"defect\" and  data.iloc[i-1]['coop'] == \"defect\"):\n",
    "                if  data.iloc[i]['coop'] == \"coop\":\n",
    "                    data.loc[i, \"M4\"] = 0\n",
    "                else:\n",
    "                    data.loc[i, \"M4\"] = 1"
   ]
  },
  {
   "cell_type": "markdown",
   "metadata": {},
   "source": [
    "# equivalent to always cooperate - D after CD  אסטרטגיה 5\n"
   ]
  },
  {
   "cell_type": "code",
   "execution_count": 11,
   "metadata": {
    "ExecuteTime": {
     "end_time": "2021-04-07T15:31:33.486111Z",
     "start_time": "2021-04-07T15:18:16.607397Z"
    }
   },
   "outputs": [],
   "source": [
    "for i in a:\n",
    "    data = i    \n",
    "    for i in range(data.shape[0]):\n",
    "        # אם בסיבוב הראשון שיתוף פעולה אז 1 אחרת 0\n",
    "        if data.iloc[i]['round'] == 1:\n",
    "            if data.iloc[i]['coop'] == 'coop':\n",
    "                 data.loc[i, \"M5\"] = 1\n",
    "            else:\n",
    "                data.loc[i, \"M5\"] = 0\n",
    "        # שניהם שיתפו\n",
    "        elif (data.iloc[i-1]['ocoop'] == \"coop\" and  data.iloc[i-1]['coop'] == \"coop\"):\n",
    "            if  data.iloc[i]['coop'] == \"coop\":\n",
    "                data.loc[i, \"M5\"] = 1\n",
    "            else:\n",
    "                data.loc[i, \"M5\"] = 0\n",
    "\n",
    "        # אם 1 שיתף ו2 לא שיתף\n",
    "        elif (data.iloc[i-1]['ocoop'] == \"defect\" and  data.iloc[i-1]['coop'] == \"coop\"):\n",
    "            if  data.iloc[i]['coop'] == \"coop\":\n",
    "                data.loc[i, \"M5\"] = 0\n",
    "            else:\n",
    "                data.loc[i, \"M5\"] = 1\n",
    "\n",
    "        # אם 1 לא שיתף ו2  שיתף\n",
    "        elif (data.iloc[i-1]['ocoop'] == \"coop\" and  data.iloc[i-1]['coop'] == \"defect\"):\n",
    "            if  data.iloc[i]['coop'] == \"coop\":\n",
    "                data.loc[i, \"M5\"] = 1\n",
    "            else:\n",
    "                data.loc[i, \"M5\"] = 0\n",
    "\n",
    "        # שניהם לא שיתפו\n",
    "        # בחר לא לשתף\n",
    "        else:\n",
    "            if (data.iloc[i-1]['ocoop'] == \"defect\" and  data.iloc[i-1]['coop'] == \"defect\"):\n",
    "                if  data.iloc[i]['coop'] == \"coop\":\n",
    "                    data.loc[i, \"M5\"] = 1\n",
    "                else:\n",
    "                    data.loc[i, \"M5\"] = 0"
   ]
  },
  {
   "cell_type": "markdown",
   "metadata": {},
   "source": [
    "# TFT אסטרטגייה 6"
   ]
  },
  {
   "cell_type": "code",
   "execution_count": 12,
   "metadata": {
    "ExecuteTime": {
     "end_time": "2021-04-07T15:44:21.987337Z",
     "start_time": "2021-04-07T15:31:34.819859Z"
    }
   },
   "outputs": [],
   "source": [
    "for i in a:\n",
    "    data = i\n",
    "    for i in range(data.shape[0]):\n",
    "        # אם בסיבוב הראשון שיתוף פעולה אז 1 אחרת 0\n",
    "        if data.iloc[i]['round'] == 1:\n",
    "            if data.iloc[i]['coop'] == 'coop':\n",
    "                 data.loc[i, \"M6\"] = 1\n",
    "            else:\n",
    "                data.loc[i, \"M6\"] = 0\n",
    "        # CC שניהם שיתפו\n",
    "        elif (data.iloc[i-1]['ocoop'] == \"coop\" and  data.iloc[i-1]['coop'] == \"coop\"):\n",
    "            if  data.iloc[i]['coop'] == \"coop\":\n",
    "                data.loc[i, \"M6\"] = 1\n",
    "            else:\n",
    "                data.loc[i, \"M6\"] = 0\n",
    "\n",
    "        # CD אם 1 שיתף ו2 לא שיתף\n",
    "        elif (data.iloc[i-1]['ocoop'] == \"defect\" and  data.iloc[i-1]['coop'] == \"coop\"):\n",
    "            if  data.iloc[i]['coop'] == \"coop\":\n",
    "                data.loc[i, \"M6\"] = 0\n",
    "            else:\n",
    "                data.loc[i, \"M6\"] = 1\n",
    "\n",
    "        # DC אם 1 לא שיתף ו2  שיתף\n",
    "        elif (data.iloc[i-1]['ocoop'] == \"coop\" and  data.iloc[i-1]['coop'] == \"defect\"):\n",
    "            if  data.iloc[i]['coop'] == \"coop\":\n",
    "                data.loc[i, \"M6\"] = 1\n",
    "            else:\n",
    "                data.loc[i, \"M6\"] = 0\n",
    "\n",
    "        # שניהם לא שיתפו\n",
    "        # DD\n",
    "        else:\n",
    "            if (data.iloc[i-1]['ocoop'] == \"defect\" and  data.iloc[i-1]['coop'] == \"defect\"):\n",
    "                if  data.iloc[i]['coop'] == \"coop\":\n",
    "                    data.loc[i, \"M6\"] = 0\n",
    "                else:\n",
    "                    data.loc[i, \"M6\"] = 1"
   ]
  },
  {
   "cell_type": "markdown",
   "metadata": {},
   "source": [
    "# Pavlov (win-stay, loose-shift) אסטרטטגיה 7"
   ]
  },
  {
   "cell_type": "code",
   "execution_count": 13,
   "metadata": {
    "ExecuteTime": {
     "end_time": "2021-04-07T16:00:09.431790Z",
     "start_time": "2021-04-07T15:44:23.262215Z"
    }
   },
   "outputs": [],
   "source": [
    "for i in a:\n",
    "    data = i\n",
    "    for i in range(data.shape[0]):\n",
    "        # אם בסיבוב הראשון שיתוף פעולה אז 1 אחרת 0\n",
    "        if data.iloc[i]['supergame'] == 1:\n",
    "            if data.iloc[i]['coop'] == 'coop':\n",
    "                 data.loc[i, \"M7\"] = 1\n",
    "            else:\n",
    "                data.loc[i, \"M7\"] = 0\n",
    "        # CC שניהם שיתפו\n",
    "        elif (data.iloc[i-1]['ocoop'] == \"coop\" and  data.iloc[i-1]['coop'] == \"coop\"):\n",
    "            if  data.iloc[i]['coop'] == \"coop\":\n",
    "                data.loc[i, \"M7\"] = 1\n",
    "            else:\n",
    "                data.loc[i, \"M7\"] = 0\n",
    "\n",
    "        # CD אם 1 שיתף ו2 לא שיתף\n",
    "        elif (data.iloc[i-1]['ocoop'] == \"defect\" and  data.iloc[i-1]['coop'] == \"coop\"):\n",
    "            if  data.iloc[i]['coop'] == \"coop\":\n",
    "                data.loc[i, \"M7\"] = 0\n",
    "            else:\n",
    "                data.loc[i, \"M7\"] = 1\n",
    "\n",
    "        # DC אם 1 לא שיתף ו2  שיתף\n",
    "        elif (data.iloc[i-1]['ocoop'] == \"coop\" and  data.iloc[i-1]['coop'] == \"defect\"):\n",
    "            if  data.iloc[i]['coop'] == \"coop\":\n",
    "                data.loc[i, \"M7\"] = 0\n",
    "            else:\n",
    "                data.loc[i, \"M7\"] = 1\n",
    "\n",
    "        # שניהם לא שיתפו\n",
    "        # DD\n",
    "        else:\n",
    "            if (data.iloc[i-1]['ocoop'] == \"defect\" and  data.iloc[i-1]['coop'] == \"defect\"):\n",
    "                if  data.iloc[i]['coop'] == \"coop\":\n",
    "                    data.loc[i, \"M7\"] = 1\n",
    "                else:\n",
    "                    data.loc[i, \"M7\"] = 0"
   ]
  },
  {
   "cell_type": "markdown",
   "metadata": {},
   "source": [
    "# Grim Trirgger אסטרטגיה 8"
   ]
  },
  {
   "cell_type": "code",
   "execution_count": 14,
   "metadata": {
    "ExecuteTime": {
     "end_time": "2021-04-07T16:12:49.359032Z",
     "start_time": "2021-04-07T16:00:10.684666Z"
    }
   },
   "outputs": [],
   "source": [
    "for i in a:\n",
    "    data = i\n",
    "    for i in range(data.shape[0]):\n",
    "        # אם בסיבוב הראשון שיתוף פעולה אז 1 אחרת 0\n",
    "        if data.iloc[i]['round'] == 1:\n",
    "            if data.iloc[i]['coop'] == 'coop':\n",
    "                 data.loc[i, \"M8\"] = 1\n",
    "            else:\n",
    "                data.loc[i, \"M8\"] = 0\n",
    "        # CC שניהם שיתפו\n",
    "        elif (data.iloc[i-1]['ocoop'] == \"coop\" and  data.iloc[i-1]['coop'] == \"coop\"):\n",
    "            if  data.iloc[i]['coop'] == \"coop\":\n",
    "                data.loc[i, \"M8\"] = 1\n",
    "            else:\n",
    "                data.loc[i, \"M8\"] = 0\n",
    "\n",
    "        # CD אם 1 שיתף ו2 לא שיתף\n",
    "        elif (data.iloc[i-1]['ocoop'] == \"defect\" and  data.iloc[i-1]['coop'] == \"coop\"):\n",
    "            if  data.iloc[i]['coop'] == \"coop\":\n",
    "                data.loc[i, \"M8\"] = 0\n",
    "            else:\n",
    "                data.loc[i, \"M8\"] = 1\n",
    "\n",
    "        # DC אם 1 לא שיתף ו2  שיתף\n",
    "        elif (data.iloc[i-1]['ocoop'] == \"coop\" and  data.iloc[i-1]['coop'] == \"defect\"):\n",
    "            if  data.iloc[i]['coop'] == \"coop\":\n",
    "                data.loc[i, \"M8\"] = 0\n",
    "            else:\n",
    "                data.loc[i, \"M8\"] = 1\n",
    "\n",
    "        # שניהם לא שיתפו\n",
    "        # DD\n",
    "        else:\n",
    "            if (data.iloc[i-1]['ocoop'] == \"defect\" and  data.iloc[i-1]['coop'] == \"defect\"):\n",
    "                if  data.iloc[i]['coop'] == \"coop\":\n",
    "                    data.loc[i, \"M8\"] = 0\n",
    "                else:\n",
    "                    data.loc[i, \"M8\"] = 1"
   ]
  },
  {
   "cell_type": "markdown",
   "metadata": {},
   "source": [
    "# אסטרטגיה 9"
   ]
  },
  {
   "cell_type": "code",
   "execution_count": 15,
   "metadata": {
    "ExecuteTime": {
     "end_time": "2021-04-07T16:26:04.689747Z",
     "start_time": "2021-04-07T16:12:50.593731Z"
    }
   },
   "outputs": [],
   "source": [
    "for i in a:\n",
    "    data = i\n",
    "    for i in range(data.shape[0]):\n",
    "        # אם בסיבוב הראשון שיתוף פעולה אז 1 אחרת 0\n",
    "        if data.iloc[i]['round'] == 1:\n",
    "            if data.iloc[i]['coop'] == 'coop':\n",
    "                 data.loc[i, \"M9\"] = 1\n",
    "            else:\n",
    "                data.loc[i, \"M9\"] = 0\n",
    "        # CC שניהם שיתפו\n",
    "        elif (data.iloc[i-1]['ocoop'] == \"coop\" and  data.iloc[i-1]['coop'] == \"coop\"):\n",
    "            if  data.iloc[i]['coop'] == \"coop\":\n",
    "                data.loc[i, \"M9\"] = 0\n",
    "            else:\n",
    "                data.loc[i, \"M9\"] = 1\n",
    "\n",
    "        # CD אם 1 שיתף ו2 לא שיתף\n",
    "        elif (data.iloc[i-1]['ocoop'] == \"defect\" and  data.iloc[i-1]['coop'] == \"coop\"):\n",
    "            if  data.iloc[i]['coop'] == \"coop\":\n",
    "                data.loc[i, \"M9\"] = 1\n",
    "            else:\n",
    "                data.loc[i, \"M9\"] = 0\n",
    "\n",
    "        # DC אם 1 לא שיתף ו2  שיתף\n",
    "        elif (data.iloc[i-1]['ocoop'] == \"coop\" and  data.iloc[i-1]['coop'] == \"defect\"):\n",
    "            if  data.iloc[i]['coop'] == \"coop\":\n",
    "                data.loc[i, \"M9\"] = 1\n",
    "            else:\n",
    "                data.loc[i, \"M9\"] = 0\n",
    "\n",
    "        # שניהם לא שיתפו\n",
    "        # DD\n",
    "        else:\n",
    "            if (data.iloc[i-1]['ocoop'] == \"defect\" and  data.iloc[i-1]['coop'] == \"defect\"):\n",
    "                if  data.iloc[i]['coop'] == \"coop\":\n",
    "                    data.loc[i, \"M9\"] = 1\n",
    "                else:\n",
    "                    data.loc[i, \"M9\"] = 0\n"
   ]
  },
  {
   "cell_type": "markdown",
   "metadata": {},
   "source": [
    "# אסטרטגיה 10"
   ]
  },
  {
   "cell_type": "code",
   "execution_count": 16,
   "metadata": {
    "ExecuteTime": {
     "end_time": "2021-04-07T16:38:41.327594Z",
     "start_time": "2021-04-07T16:26:05.869686Z"
    }
   },
   "outputs": [],
   "source": [
    "for i in a:\n",
    "    data = i\n",
    "    for i in range(data.shape[0]):\n",
    "        # אם בסיבוב הראשון שיתוף פעולה אז 1 אחרת 0\n",
    "        if data.iloc[i]['round'] == 1:\n",
    "            if data.iloc[i]['coop'] == 'coop':\n",
    "                 data.loc[i, \"M10\"] = 1\n",
    "            else:\n",
    "                data.loc[i, \"M10\"] = 0\n",
    "        # CC שניהם שיתפו\n",
    "        elif (data.iloc[i-1]['ocoop'] == \"coop\" and  data.iloc[i-1]['coop'] == \"coop\"):\n",
    "            if  data.iloc[i]['coop'] == \"coop\":\n",
    "                data.loc[i, \"M10\"] = 0\n",
    "            else:\n",
    "                data.loc[i, \"M10\"] = 1\n",
    "\n",
    "        # CD אם 1 שיתף ו2 לא שיתף\n",
    "        elif (data.iloc[i-1]['ocoop'] == \"defect\" and  data.iloc[i-1]['coop'] == \"coop\"):\n",
    "            if  data.iloc[i]['coop'] == \"coop\":\n",
    "                data.loc[i, \"M10\"] = 1\n",
    "            else:\n",
    "                data.loc[i, \"M10\"] = 0\n",
    "\n",
    "        # DC אם 1 לא שיתף ו2  שיתף\n",
    "        elif (data.iloc[i-1]['ocoop'] == \"coop\" and  data.iloc[i-1]['coop'] == \"defect\"):\n",
    "            if  data.iloc[i]['coop'] == \"coop\":\n",
    "                data.loc[i, \"M10\"] = 1\n",
    "            else:\n",
    "                data.loc[i, \"M10\"] = 0\n",
    "\n",
    "        # שניהם לא שיתפו\n",
    "        # DD\n",
    "        else:\n",
    "            if (data.iloc[i-1]['ocoop'] == \"defect\" and  data.iloc[i-1]['coop'] == \"defect\"):\n",
    "                if  data.iloc[i]['coop'] == \"coop\":\n",
    "                    data.loc[i, \"M10\"] = 0\n",
    "                else:\n",
    "                    data.loc[i, \"M10\"] = 1"
   ]
  },
  {
   "cell_type": "markdown",
   "metadata": {},
   "source": [
    "# אסטרטגיה 11"
   ]
  },
  {
   "cell_type": "code",
   "execution_count": 17,
   "metadata": {
    "ExecuteTime": {
     "end_time": "2021-04-07T16:51:38.463862Z",
     "start_time": "2021-04-07T16:38:42.486479Z"
    }
   },
   "outputs": [],
   "source": [
    "for i in a:\n",
    "    data = i\n",
    "    for i in range(data.shape[0]):\n",
    "        # אם בסיבוב הראשון שיתוף פעולה אז 1 אחרת 0\n",
    "        if data.iloc[i]['round'] == 1:\n",
    "            if data.iloc[i]['coop'] == 'coop':\n",
    "                 data.loc[i, \"M11\"] = 1\n",
    "            else:\n",
    "                data.loc[i, \"M11\"] = 0\n",
    "        # CC שניהם שיתפו\n",
    "        elif (data.iloc[i-1]['ocoop'] == \"coop\" and  data.iloc[i-1]['coop'] == \"coop\"):\n",
    "            if  data.iloc[i]['coop'] == \"coop\":\n",
    "                data.loc[i, \"M11\"] = 0\n",
    "            else:\n",
    "                data.loc[i, \"M11\"] = 1\n",
    "\n",
    "        # CD אם 1 שיתף ו2 לא שיתף\n",
    "        elif (data.iloc[i-1]['ocoop'] == \"defect\" and  data.iloc[i-1]['coop'] == \"coop\"):\n",
    "            if  data.iloc[i]['coop'] == \"coop\":\n",
    "                data.loc[i, \"M11\"] = 1\n",
    "            else:\n",
    "                data.loc[i, \"M11\"] = 0\n",
    "\n",
    "        # DC אם 1 לא שיתף ו2  שיתף\n",
    "        elif (data.iloc[i-1]['ocoop'] == \"coop\" and  data.iloc[i-1]['coop'] == \"defect\"):\n",
    "            if  data.iloc[i]['coop'] == \"coop\":\n",
    "                data.loc[i, \"M11\"] = 0\n",
    "            else:\n",
    "                data.loc[i, \"M11\"] = 1\n",
    "\n",
    "        # שניהם לא שיתפו\n",
    "        # DD\n",
    "        else:\n",
    "            if (data.iloc[i-1]['ocoop'] == \"defect\" and  data.iloc[i-1]['coop'] == \"defect\"):\n",
    "                if  data.iloc[i]['coop'] == \"coop\":\n",
    "                    data.loc[i, \"M11\"] = 1\n",
    "                else:\n",
    "                    data.loc[i, \"M11\"] = 0\n"
   ]
  },
  {
   "cell_type": "markdown",
   "metadata": {},
   "source": [
    "# אסטרטגייה 12"
   ]
  },
  {
   "cell_type": "code",
   "execution_count": 18,
   "metadata": {
    "ExecuteTime": {
     "end_time": "2021-04-07T17:03:56.900116Z",
     "start_time": "2021-04-07T16:51:39.526986Z"
    }
   },
   "outputs": [],
   "source": [
    "for i in a:\n",
    "    data = i\n",
    "    for i in range(data.shape[0]):\n",
    "        # אם בסיבוב הראשון שיתוף פעולה אז 1 אחרת 0\n",
    "        if data.iloc[i]['round'] == 1:\n",
    "            if data.iloc[i]['coop'] == 'coop':\n",
    "                 data.loc[i, \"M12\"] = 1\n",
    "            else:\n",
    "                data.loc[i, \"M12\"] = 0\n",
    "        # CC שניהם שיתפו\n",
    "        elif (data.iloc[i-1]['ocoop'] == \"coop\" and  data.iloc[i-1]['coop'] == \"coop\"):\n",
    "            if  data.iloc[i]['coop'] == \"coop\":\n",
    "                data.loc[i, \"M12\"] = 0\n",
    "            else:\n",
    "                data.loc[i, \"M12\"] = 1\n",
    "\n",
    "        # CD אם 1 שיתף ו2 לא שיתף\n",
    "        elif (data.iloc[i-1]['ocoop'] == \"defect\" and  data.iloc[i-1]['coop'] == \"coop\"):\n",
    "            if  data.iloc[i]['coop'] == \"coop\":\n",
    "                data.loc[i, \"M12\"] = 1\n",
    "            else:\n",
    "                data.loc[i, \"M12\"] = 0\n",
    "\n",
    "        # DC אם 1 לא שיתף ו2  שיתף\n",
    "        elif (data.iloc[i-1]['ocoop'] == \"coop\" and  data.iloc[i-1]['coop'] == \"defect\"):\n",
    "            if  data.iloc[i]['coop'] == \"coop\":\n",
    "                data.loc[i, \"M12\"] = 0\n",
    "            else:\n",
    "                data.loc[i, \"M12\"] = 1\n",
    "\n",
    "        # שניהם לא שיתפו\n",
    "        # DD\n",
    "        else:\n",
    "            if (data.iloc[i-1]['ocoop'] == \"defect\" and  data.iloc[i-1]['coop'] == \"defect\"):\n",
    "                if  data.iloc[i]['coop'] == \"coop\":\n",
    "                    data.loc[i, \"M12\"] = 0\n",
    "                else:\n",
    "                    data.loc[i, \"M12\"] = 1"
   ]
  },
  {
   "cell_type": "markdown",
   "metadata": {},
   "source": [
    "# אסטרטגיה 13"
   ]
  },
  {
   "cell_type": "code",
   "execution_count": 19,
   "metadata": {
    "ExecuteTime": {
     "end_time": "2021-04-07T17:17:01.389678Z",
     "start_time": "2021-04-07T17:03:57.999656Z"
    }
   },
   "outputs": [],
   "source": [
    "for i in a:\n",
    "    data = i\n",
    "    for i in range(data.shape[0]):\n",
    "        # אם בסיבוב הראשון שיתוף פעולה אז 1 אחרת 0\n",
    "        if data.iloc[i]['round'] == 1:\n",
    "            if data.iloc[i]['coop'] == 'coop':\n",
    "                 data.loc[i, \"M13\"] = 1\n",
    "            else:\n",
    "                data.loc[i, \"M13\"] = 0\n",
    "        # CC שניהם שיתפו\n",
    "        elif (data.iloc[i-1]['ocoop'] == \"coop\" and  data.iloc[i-1]['coop'] == \"coop\"):\n",
    "            if  data.iloc[i]['coop'] == \"coop\":\n",
    "                data.loc[i, \"M13\"] = 0\n",
    "            else:\n",
    "                data.loc[i, \"M13\"] = 1\n",
    "\n",
    "        # CD אם 1 שיתף ו2 לא שיתף\n",
    "        elif (data.iloc[i-1]['ocoop'] == \"defect\" and  data.iloc[i-1]['coop'] == \"coop\"):\n",
    "            if  data.iloc[i]['coop'] == \"coop\":\n",
    "                data.loc[i, \"M13\"] = 0\n",
    "            else:\n",
    "                data.loc[i, \"M13\"] = 1\n",
    "\n",
    "        # DC אם 1 לא שיתף ו2  שיתף\n",
    "        elif (data.iloc[i-1]['ocoop'] == \"coop\" and  data.iloc[i-1]['coop'] == \"defect\"):\n",
    "            if  data.iloc[i]['coop'] == \"coop\":\n",
    "                data.loc[i, \"M13\"] = 1\n",
    "            else:\n",
    "                data.loc[i, \"M13\"] = 0\n",
    "\n",
    "        # שניהם לא שיתפו\n",
    "        # DD\n",
    "        else:\n",
    "            if (data.iloc[i-1]['ocoop'] == \"defect\" and  data.iloc[i-1]['coop'] == \"defect\"):\n",
    "                if  data.iloc[i]['coop'] == \"coop\":\n",
    "                    data.loc[i, \"M13\"] = 0\n",
    "                else:\n",
    "                    data.loc[i, \"M13\"] = 1"
   ]
  },
  {
   "cell_type": "markdown",
   "metadata": {},
   "source": [
    "# אסטרטגיה 14 "
   ]
  },
  {
   "cell_type": "code",
   "execution_count": null,
   "metadata": {
    "ExecuteTime": {
     "start_time": "2021-04-07T14:36:48.876Z"
    }
   },
   "outputs": [],
   "source": [
    "for i in a:\n",
    "    data = i\n",
    "    for i in range(data.shape[0]):\n",
    "        # אם בסיבוב הראשון שיתוף פעולה אז 1 אחרת 0\n",
    "        if data.iloc[i]['round'] == 1:\n",
    "            if data.iloc[i]['coop'] == 'coop':\n",
    "                 data.loc[i, \"M14\"] = 1\n",
    "            else:\n",
    "                data.loc[i, \"M14\"] = 0\n",
    "        # CC שניהם שיתפו\n",
    "        elif (data.iloc[i-1]['ocoop'] == \"coop\" and  data.iloc[i-1]['coop'] == \"coop\"):\n",
    "            if  data.iloc[i]['coop'] == \"coop\":\n",
    "                data.loc[i, \"M14\"] = 0\n",
    "            else:\n",
    "                data.loc[i, \"M14\"] = 1\n",
    "\n",
    "        # CD אם 1 שיתף ו2 לא שיתף\n",
    "        elif (data.iloc[i-1]['ocoop'] == \"defect\" and  data.iloc[i-1]['coop'] == \"coop\"):\n",
    "            if  data.iloc[i]['coop'] == \"coop\":\n",
    "                data.loc[i, \"M14\"] = 0\n",
    "            else:\n",
    "                data.loc[i, \"M14\"] = 1\n",
    "\n",
    "        # DC אם 1 לא שיתף ו2  שיתף\n",
    "        elif (data.iloc[i-1]['ocoop'] == \"coop\" and  data.iloc[i-1]['coop'] == \"defect\"):\n",
    "            if  data.iloc[i]['coop'] == \"coop\":\n",
    "                data.loc[i, \"M14\"] = 1\n",
    "            else:\n",
    "                data.loc[i, \"M14\"] = 0\n",
    "\n",
    "        # שניהם לא שיתפו\n",
    "        # DD\n",
    "        else:\n",
    "            if (data.iloc[i-1]['ocoop'] == \"defect\" and  data.iloc[i-1]['coop'] == \"defect\"):\n",
    "                if  data.iloc[i]['coop'] == \"coop\":\n",
    "                    data.loc[i, \"M14\"] = 0\n",
    "                else:\n",
    "                    data.loc[i, \"M14\"] = 1"
   ]
  },
  {
   "cell_type": "markdown",
   "metadata": {},
   "source": [
    "# אסטרטגיה 15"
   ]
  },
  {
   "cell_type": "code",
   "execution_count": null,
   "metadata": {
    "ExecuteTime": {
     "start_time": "2021-04-07T14:36:49.515Z"
    }
   },
   "outputs": [],
   "source": [
    "for i in a:\n",
    "    data = i\n",
    "    for i in range(data.shape[0]):\n",
    "        # אם בסיבוב הראשון שיתוף פעולה אז 1 אחרת 0\n",
    "        if data.iloc[i]['round'] == 1:\n",
    "            if data.iloc[i]['coop'] == 'coop':\n",
    "                 data.loc[i, \"M15\"] = 1\n",
    "            else:\n",
    "                data.loc[i, \"M15\"] = 0\n",
    "        # CC שניהם שיתפו\n",
    "        elif (data.iloc[i-1]['ocoop'] == \"coop\" and  data.iloc[i-1]['coop'] == \"coop\"):\n",
    "            if  data.iloc[i]['coop'] == \"coop\":\n",
    "                data.loc[i, \"M15\"] = 0\n",
    "            else:\n",
    "                data.loc[i, \"M15\"] = 1\n",
    "\n",
    "        # CD אם 1 שיתף ו2 לא שיתף\n",
    "        elif (data.iloc[i-1]['ocoop'] == \"defect\" and  data.iloc[i-1]['coop'] == \"coop\"):\n",
    "            if  data.iloc[i]['coop'] == \"coop\":\n",
    "                data.loc[i, \"M15\"] = 0\n",
    "            else:\n",
    "                data.loc[i, \"M15\"] = 1\n",
    "\n",
    "        # DC אם 1 לא שיתף ו2  שיתף\n",
    "        elif (data.iloc[i-1]['ocoop'] == \"coop\" and  data.iloc[i-1]['coop'] == \"defect\"):\n",
    "            if  data.iloc[i]['coop'] == \"coop\":\n",
    "                data.loc[i, \"M15\"] = 0\n",
    "            else:\n",
    "                data.loc[i, \"M15\"] = 1\n",
    "\n",
    "        # שניהם לא שיתפו\n",
    "        # DD\n",
    "        else:\n",
    "            if (data.iloc[i-1]['ocoop'] == \"defect\" and  data.iloc[i-1]['coop'] == \"defect\"):\n",
    "                if  data.iloc[i]['coop'] == \"coop\":\n",
    "                    data.loc[i, \"M15\"] = 1\n",
    "                else:\n",
    "                    data.loc[i, \"M15\"] = 0"
   ]
  },
  {
   "cell_type": "markdown",
   "metadata": {},
   "source": [
    "# אסטרטגיה 16"
   ]
  },
  {
   "cell_type": "code",
   "execution_count": null,
   "metadata": {
    "ExecuteTime": {
     "start_time": "2021-04-07T14:36:50.108Z"
    }
   },
   "outputs": [],
   "source": [
    "for i in a:\n",
    "    data = i\n",
    "    for i in range(data.shape[0]):\n",
    "        # אם בסיבוב הראשון שיתוף פעולה אז 1 אחרת 0\n",
    "        if data.iloc[i]['round'] == 1:\n",
    "            if data.iloc[i]['coop'] == 'coop':\n",
    "                 data.loc[i, \"M16\"] = 1\n",
    "            else:\n",
    "                data.loc[i, \"M16\"] = 0\n",
    "        # CC שניהם שיתפו\n",
    "        elif (data.iloc[i-1]['ocoop'] == \"coop\" and  data.iloc[i-1]['coop'] == \"coop\"):\n",
    "            if  data.iloc[i]['coop'] == \"coop\":\n",
    "                data.loc[i, \"M16\"] = 0\n",
    "            else:\n",
    "                data.loc[i, \"M16\"] = 1\n",
    "\n",
    "        # CD אם 1 שיתף ו2 לא שיתף\n",
    "        elif (data.iloc[i-1]['ocoop'] == \"defect\" and  data.iloc[i-1]['coop'] == \"coop\"):\n",
    "            if  data.iloc[i]['coop'] == \"coop\":\n",
    "                data.loc[i, \"M16\"] = 0\n",
    "            else:\n",
    "                data.loc[i, \"M16\"] = 1\n",
    "\n",
    "        # DC אם 1 לא שיתף ו2  שיתף\n",
    "        elif (data.iloc[i-1]['ocoop'] == \"coop\" and  data.iloc[i-1]['coop'] == \"defect\"):\n",
    "            if  data.iloc[i]['coop'] == \"coop\":\n",
    "                data.loc[i, \"M16\"] = 0\n",
    "            else:\n",
    "                data.loc[i, \"M16\"] = 1\n",
    "\n",
    "        # שניהם לא שיתפו\n",
    "        # DD\n",
    "        else:\n",
    "            if (data.iloc[i-1]['ocoop'] == \"defect\" and  data.iloc[i-1]['coop'] == \"defect\"):\n",
    "                if  data.iloc[i]['coop'] == \"coop\":\n",
    "                    data.loc[i, \"M16\"] = 0\n",
    "                else:\n",
    "                    data.loc[i, \"M16\"] = 1"
   ]
  },
  {
   "cell_type": "markdown",
   "metadata": {},
   "source": [
    "# אסטרטגיה 17"
   ]
  },
  {
   "cell_type": "code",
   "execution_count": null,
   "metadata": {
    "ExecuteTime": {
     "start_time": "2021-04-07T14:36:50.724Z"
    }
   },
   "outputs": [],
   "source": [
    "for i in a:\n",
    "    data = i\n",
    "    for i in range(data.shape[0]):\n",
    "        # אם בסיבוב הראשון שיתוף פעולה אז 1 אחרת 0\n",
    "        if data.iloc[i]['round'] == 1:\n",
    "            if data.iloc[i]['coop'] == 'coop':\n",
    "                 data.loc[i, \"M17\"] = 0\n",
    "            else:\n",
    "                data.loc[i, \"M17\"] = 1\n",
    "        # CC שניהם שיתפו\n",
    "        elif (data.iloc[i-1]['ocoop'] == \"coop\" and  data.iloc[i-1]['coop'] == \"coop\"):\n",
    "            if  data.iloc[i]['coop'] == \"coop\":\n",
    "                data.loc[i, \"M17\"] = 1\n",
    "            else:\n",
    "                data.loc[i, \"M17\"] = 0\n",
    "\n",
    "        # CD אם 1 שיתף ו2 לא שיתף\n",
    "        elif (data.iloc[i-1]['ocoop'] == \"defect\" and  data.iloc[i-1]['coop'] == \"coop\"):\n",
    "            if  data.iloc[i]['coop'] == \"coop\":\n",
    "                data.loc[i, \"M17\"] = 1\n",
    "            else:\n",
    "                data.loc[i, \"M17\"] = 0\n",
    "\n",
    "        # DC אם 1 לא שיתף ו2  שיתף\n",
    "        elif (data.iloc[i-1]['ocoop'] == \"coop\" and  data.iloc[i-1]['coop'] == \"defect\"):\n",
    "            if  data.iloc[i]['coop'] == \"coop\":\n",
    "                data.loc[i, \"M17\"] = 1\n",
    "            else:\n",
    "                data.loc[i, \"M17\"] = 0\n",
    "\n",
    "        # שניהם לא שיתפו\n",
    "        # DD\n",
    "        else:\n",
    "            if (data.iloc[i-1]['ocoop'] == \"defect\" and  data.iloc[i-1]['coop'] == \"defect\"):\n",
    "                if  data.iloc[i]['coop'] == \"coop\":\n",
    "                    data.loc[i, \"M17\"] = 1\n",
    "                else:\n",
    "                    data.loc[i, \"M17\"] = 0\n"
   ]
  },
  {
   "cell_type": "markdown",
   "metadata": {},
   "source": [
    "# אסטרטגיה 18"
   ]
  },
  {
   "cell_type": "code",
   "execution_count": null,
   "metadata": {
    "ExecuteTime": {
     "start_time": "2021-04-07T14:36:51.439Z"
    }
   },
   "outputs": [],
   "source": [
    "for i in a:\n",
    "    data = i\n",
    "    for i in range(data.shape[0]):\n",
    "        # אם בסיבוב הראשון שיתוף פעולה אז 1 אחרת 0\n",
    "        if data.iloc[i]['round'] == 1:\n",
    "            if data.iloc[i]['coop'] == 'coop':\n",
    "                 data.loc[i, \"M18\"] = 0\n",
    "            else:\n",
    "                data.loc[i, \"M18\"] = 1\n",
    "        # CC שניהם שיתפו\n",
    "        elif (data.iloc[i-1]['ocoop'] == \"coop\" and  data.iloc[i-1]['coop'] == \"coop\"):\n",
    "            if  data.iloc[i]['coop'] == \"coop\":\n",
    "                data.loc[i, \"M18\"] = 1\n",
    "            else:\n",
    "                data.loc[i, \"M18\"] = 0\n",
    "\n",
    "        # CD אם 1 שיתף ו2 לא שיתף\n",
    "        elif (data.iloc[i-1]['ocoop'] == \"defect\" and  data.iloc[i-1]['coop'] == \"coop\"):\n",
    "            if  data.iloc[i]['coop'] == \"coop\":\n",
    "                data.loc[i, \"M18\"] = 1\n",
    "            else:\n",
    "                data.loc[i, \"M18\"] = 0\n",
    "\n",
    "        # DC אם 1 לא שיתף ו2  שיתף\n",
    "        elif (data.iloc[i-1]['ocoop'] == \"coop\" and  data.iloc[i-1]['coop'] == \"defect\"):\n",
    "            if  data.iloc[i]['coop'] == \"coop\":\n",
    "                data.loc[i, \"M18\"] = 1\n",
    "            else:\n",
    "                data.loc[i, \"M18\"] = 0\n",
    "\n",
    "        # שניהם לא שיתפו\n",
    "        # DD\n",
    "        else:\n",
    "            if (data.iloc[i-1]['ocoop'] == \"defect\" and  data.iloc[i-1]['coop'] == \"defect\"):\n",
    "                if  data.iloc[i]['coop'] == \"coop\":\n",
    "                    data.loc[i, \"M18\"] = 0\n",
    "                else:\n",
    "                    data.loc[i, \"M18\"] = 1"
   ]
  },
  {
   "cell_type": "markdown",
   "metadata": {},
   "source": [
    "# אסטרטגיה 19"
   ]
  },
  {
   "cell_type": "code",
   "execution_count": null,
   "metadata": {
    "ExecuteTime": {
     "start_time": "2021-04-07T14:36:52.048Z"
    }
   },
   "outputs": [],
   "source": [
    "for i in a:\n",
    "    data = i\n",
    "    for i in range(data.shape[0]):\n",
    "        # אם בסיבוב הראשון שיתוף פעולה אז 1 אחרת 0\n",
    "        if data.iloc[i]['round'] == 1:\n",
    "            if data.iloc[i]['coop'] == 'coop':\n",
    "                 data.loc[i, \"M19\"] = 0\n",
    "            else:\n",
    "                data.loc[i, \"M19\"] = 1\n",
    "        # CC שניהם שיתפו\n",
    "        elif (data.iloc[i-1]['ocoop'] == \"coop\" and  data.iloc[i-1]['coop'] == \"coop\"):\n",
    "            if  data.iloc[i]['coop'] == \"coop\":\n",
    "                data.loc[i, \"M19\"] = 1\n",
    "            else:\n",
    "                data.loc[i, \"M19\"] = 0\n",
    "\n",
    "        # CD אם 1 שיתף ו2 לא שיתף\n",
    "        elif (data.iloc[i-1]['ocoop'] == \"defect\" and  data.iloc[i-1]['coop'] == \"coop\"):\n",
    "            if  data.iloc[i]['coop'] == \"coop\":\n",
    "                data.loc[i, \"M19\"] = 1\n",
    "            else:\n",
    "                data.loc[i, \"M19\"] = 0\n",
    "\n",
    "        # DC אם 1 לא שיתף ו2  שיתף\n",
    "        elif (data.iloc[i-1]['ocoop'] == \"coop\" and  data.iloc[i-1]['coop'] == \"defect\"):\n",
    "            if  data.iloc[i]['coop'] == \"coop\":\n",
    "                data.loc[i, \"M19\"] = 0\n",
    "            else:\n",
    "                data.loc[i, \"M19\"] = 1\n",
    "\n",
    "        # שניהם לא שיתפו\n",
    "        # DD\n",
    "        else:\n",
    "            if (data.iloc[i-1]['ocoop'] == \"defect\" and  data.iloc[i-1]['coop'] == \"defect\"):\n",
    "                if  data.iloc[i]['coop'] == \"coop\":\n",
    "                    data.loc[i, \"M19\"] = 1\n",
    "                else:\n",
    "                    data.loc[i, \"M19\"] = 0\n"
   ]
  },
  {
   "cell_type": "markdown",
   "metadata": {},
   "source": [
    "# אסטרטגיה 20"
   ]
  },
  {
   "cell_type": "code",
   "execution_count": null,
   "metadata": {
    "ExecuteTime": {
     "start_time": "2021-04-07T14:36:52.675Z"
    }
   },
   "outputs": [],
   "source": [
    "for i in a:\n",
    "    data = i\n",
    "    for i in range(data.shape[0]):\n",
    "        # אם בסיבוב הראשון שיתוף פעולה אז 1 אחרת 0\n",
    "        if data.iloc[i]['round'] == 1:\n",
    "            if data.iloc[i]['coop'] == 'coop':\n",
    "                 data.loc[i, \"M20\"] = 0\n",
    "            else:\n",
    "                data.loc[i, \"M20\"] = 1\n",
    "        # CC שניהם שיתפו\n",
    "        elif (data.iloc[i-1]['ocoop'] == \"coop\" and  data.iloc[i-1]['coop'] == \"coop\"):\n",
    "            if  data.iloc[i]['coop'] == \"coop\":\n",
    "                data.loc[i, \"M20\"] = 1\n",
    "            else:\n",
    "                data.loc[i, \"M20\"] = 0\n",
    "\n",
    "        # CD אם 1 שיתף ו2 לא שיתף\n",
    "        elif (data.iloc[i-1]['ocoop'] == \"defect\" and  data.iloc[i-1]['coop'] == \"coop\"):\n",
    "            if  data.iloc[i]['coop'] == \"coop\":\n",
    "                data.loc[i, \"M20\"] = 1\n",
    "            else:\n",
    "                data.loc[i, \"M20\"] = 0\n",
    "\n",
    "        # DC אם 1 לא שיתף ו2  שיתף\n",
    "        elif (data.iloc[i-1]['ocoop'] == \"coop\" and  data.iloc[i-1]['coop'] == \"defect\"):\n",
    "            if  data.iloc[i]['coop'] == \"coop\":\n",
    "                data.loc[i, \"M20\"] = 0\n",
    "            else:\n",
    "                data.loc[i, \"M20\"] = 1\n",
    "\n",
    "        # שניהם לא שיתפו\n",
    "        # DD\n",
    "        else:\n",
    "            if (data.iloc[i-1]['ocoop'] == \"defect\" and  data.iloc[i-1]['coop'] == \"defect\"):\n",
    "                if  data.iloc[i]['coop'] == \"coop\":\n",
    "                    data.loc[i, \"M20\"] = 0\n",
    "                else:\n",
    "                    data.loc[i, \"M20\"] = 1"
   ]
  },
  {
   "cell_type": "markdown",
   "metadata": {},
   "source": [
    "# אסטרטגיה 21"
   ]
  },
  {
   "cell_type": "code",
   "execution_count": null,
   "metadata": {
    "ExecuteTime": {
     "start_time": "2021-04-07T14:36:53.231Z"
    }
   },
   "outputs": [],
   "source": [
    "for i in a:\n",
    "    data = i\n",
    "    for i in range(data.shape[0]):\n",
    "        # אם בסיבוב הראשון שיתוף פעולה אז 1 אחרת 0\n",
    "        if data.iloc[i]['round'] == 1:\n",
    "            if data.iloc[i]['coop'] == 'coop':\n",
    "                 data.loc[i, \"M21\"] = 0\n",
    "            else:\n",
    "                data.loc[i, \"M21\"] = 1\n",
    "        # CC שניהם שיתפו\n",
    "        elif (data.iloc[i-1]['ocoop'] == \"coop\" and  data.iloc[i-1]['coop'] == \"coop\"):\n",
    "            if  data.iloc[i]['coop'] == \"coop\":\n",
    "                data.loc[i, \"M21\"] = 1\n",
    "            else:\n",
    "                data.loc[i, \"M21\"] = 0\n",
    "\n",
    "        # CD אם 1 שיתף ו2 לא שיתף\n",
    "        elif (data.iloc[i-1]['ocoop'] == \"defect\" and  data.iloc[i-1]['coop'] == \"coop\"):\n",
    "            if  data.iloc[i]['coop'] == \"coop\":\n",
    "                data.loc[i, \"M21\"] = 0\n",
    "            else:\n",
    "                data.loc[i, \"M21\"] = 1\n",
    "\n",
    "        # DC אם 1 לא שיתף ו2  שיתף\n",
    "        elif (data.iloc[i-1]['ocoop'] == \"coop\" and  data.iloc[i-1]['coop'] == \"defect\"):\n",
    "            if  data.iloc[i]['coop'] == \"coop\":\n",
    "                data.loc[i, \"M21\"] = 1\n",
    "            else:\n",
    "                data.loc[i, \"M21\"] = 0\n",
    "\n",
    "        # שניהם לא שיתפו\n",
    "        # DD\n",
    "        else:\n",
    "            if (data.iloc[i-1]['ocoop'] == \"defect\" and  data.iloc[i-1]['coop'] == \"defect\"):\n",
    "                if  data.iloc[i]['coop'] == \"coop\":\n",
    "                    data.loc[i, \"M21\"] = 1\n",
    "                else:\n",
    "                    data.loc[i, \"M21\"] = 0\n"
   ]
  },
  {
   "cell_type": "markdown",
   "metadata": {},
   "source": [
    "# אסטרטגיה 22"
   ]
  },
  {
   "cell_type": "code",
   "execution_count": null,
   "metadata": {
    "ExecuteTime": {
     "start_time": "2021-04-07T14:36:53.859Z"
    }
   },
   "outputs": [],
   "source": [
    "for i in a:\n",
    "    data = i\n",
    "    for i in range(data.shape[0]):\n",
    "        # אם בסיבוב הראשון שיתוף פעולה אז 1 אחרת 0\n",
    "        if data.iloc[i]['round'] == 1:\n",
    "            if data.iloc[i]['coop'] == 'coop':\n",
    "                 data.loc[i, \"M22\"] = 0\n",
    "            else:\n",
    "                data.loc[i, \"M22\"] = 1\n",
    "        # CC שניהם שיתפו\n",
    "        elif (data.iloc[i-1]['ocoop'] == \"coop\" and  data.iloc[i-1]['coop'] == \"coop\"):\n",
    "            if  data.iloc[i]['coop'] == \"coop\":\n",
    "                data.loc[i, \"M22\"] = 1\n",
    "            else:\n",
    "                data.loc[i, \"M22\"] = 0\n",
    "\n",
    "        # CD אם 1 שיתף ו2 לא שיתף\n",
    "        elif (data.iloc[i-1]['ocoop'] == \"defect\" and  data.iloc[i-1]['coop'] == \"coop\"):\n",
    "            if  data.iloc[i]['coop'] == \"coop\":\n",
    "                data.loc[i, \"M22\"] = 0\n",
    "            else:\n",
    "                data.loc[i, \"M22\"] = 1\n",
    "\n",
    "        # DC אם 1 לא שיתף ו2  שיתף\n",
    "        elif (data.iloc[i-1]['ocoop'] == \"coop\" and  data.iloc[i-1]['coop'] == \"defect\"):\n",
    "            if  data.iloc[i]['coop'] == \"coop\":\n",
    "                data.loc[i, \"M22\"] = 1\n",
    "            else:\n",
    "                data.loc[i, \"M22\"] = 0\n",
    "\n",
    "        # שניהם לא שיתפו\n",
    "        # DD\n",
    "        else:\n",
    "            if (data.iloc[i-1]['ocoop'] == \"defect\" and  data.iloc[i-1]['coop'] == \"defect\"):\n",
    "                if  data.iloc[i]['coop'] == \"coop\":\n",
    "                    data.loc[i, \"M22\"] = 0\n",
    "                else:\n",
    "                    data.loc[i, \"M22\"] = 1"
   ]
  },
  {
   "cell_type": "markdown",
   "metadata": {},
   "source": [
    "# אסטרטגיה 23"
   ]
  },
  {
   "cell_type": "code",
   "execution_count": null,
   "metadata": {
    "ExecuteTime": {
     "start_time": "2021-04-07T14:36:54.583Z"
    }
   },
   "outputs": [],
   "source": [
    "for i in a:\n",
    "    data = i\n",
    "    for i in range(data.shape[0]):\n",
    "        # אם בסיבוב הראשון שיתוף פעולה אז 1 אחרת 0\n",
    "        if data.iloc[i]['round'] == 1:\n",
    "            if data.iloc[i]['coop'] == 'coop':\n",
    "                 data.loc[i, \"M23\"] = 0\n",
    "            else:\n",
    "                data.loc[i, \"M23\"] = 1\n",
    "        # CC שניהם שיתפו\n",
    "        elif (data.iloc[i-1]['ocoop'] == \"coop\" and  data.iloc[i-1]['coop'] == \"coop\"):\n",
    "            if  data.iloc[i]['coop'] == \"coop\":\n",
    "                data.loc[i, \"M23\"] = 1\n",
    "            else:\n",
    "                data.loc[i, \"M23\"] = 0\n",
    "\n",
    "        # CD אם 1 שיתף ו2 לא שיתף\n",
    "        elif (data.iloc[i-1]['ocoop'] == \"defect\" and  data.iloc[i-1]['coop'] == \"coop\"):\n",
    "            if  data.iloc[i]['coop'] == \"coop\":\n",
    "                data.loc[i, \"M23\"] = 0\n",
    "            else:\n",
    "                data.loc[i, \"M23\"] = 1\n",
    "\n",
    "        # DC אם 1 לא שיתף ו2  שיתף\n",
    "        elif (data.iloc[i-1]['ocoop'] == \"coop\" and  data.iloc[i-1]['coop'] == \"defect\"):\n",
    "            if  data.iloc[i]['coop'] == \"coop\":\n",
    "                data.loc[i, \"M23\"] = 0\n",
    "            else:\n",
    "                data.loc[i, \"M23\"] = 1\n",
    "\n",
    "        # שניהם לא שיתפו\n",
    "        # DD\n",
    "        else:\n",
    "            if (data.iloc[i-1]['ocoop'] == \"defect\" and  data.iloc[i-1]['coop'] == \"defect\"):\n",
    "                if  data.iloc[i]['coop'] == \"coop\":\n",
    "                    data.loc[i, \"M23\"] = 1\n",
    "                else:\n",
    "                    data.loc[i, \"M23\"] = 0"
   ]
  },
  {
   "cell_type": "markdown",
   "metadata": {},
   "source": [
    "# אסטרטגיה 24"
   ]
  },
  {
   "cell_type": "code",
   "execution_count": null,
   "metadata": {
    "ExecuteTime": {
     "start_time": "2021-04-07T14:36:55.271Z"
    }
   },
   "outputs": [],
   "source": [
    "for i in a:\n",
    "    data = i\n",
    "    for i in range(data.shape[0]):\n",
    "        # אם בסיבוב הראשון שיתוף פעולה אז 1 אחרת 0\n",
    "        if data.iloc[i]['round'] == 1:\n",
    "            if data.iloc[i]['coop'] == 'coop':\n",
    "                 data.loc[i, \"M24\"] = 0\n",
    "            else:\n",
    "                data.loc[i, \"M24\"] = 1\n",
    "        # CC שניהם שיתפו\n",
    "        elif (data.iloc[i-1]['ocoop'] == \"coop\" and  data.iloc[i-1]['coop'] == \"coop\"):\n",
    "            if  data.iloc[i]['coop'] == \"coop\":\n",
    "                data.loc[i, \"M24\"] = 1\n",
    "            else:\n",
    "                data.loc[i, \"M24\"] = 0\n",
    "\n",
    "        # CD אם 1 שיתף ו2 לא שיתף\n",
    "        elif (data.iloc[i-1]['ocoop'] == \"defect\" and  data.iloc[i-1]['coop'] == \"coop\"):\n",
    "            if  data.iloc[i]['coop'] == \"coop\":\n",
    "                data.loc[i, \"M24\"] = 0\n",
    "            else:\n",
    "                data.loc[i, \"M24\"] = 1\n",
    "\n",
    "        # DC אם 1 לא שיתף ו2  שיתף\n",
    "        elif (data.iloc[i-1]['ocoop'] == \"coop\" and  data.iloc[i-1]['coop'] == \"defect\"):\n",
    "            if  data.iloc[i]['coop'] == \"coop\":\n",
    "                data.loc[i, \"M24\"] = 0\n",
    "            else:\n",
    "                data.loc[i, \"M24\"] = 1\n",
    "\n",
    "        # שניהם לא שיתפו\n",
    "        # DD\n",
    "        else:\n",
    "            if (data.iloc[i-1]['ocoop'] == \"defect\" and  data.iloc[i-1]['coop'] == \"defect\"):\n",
    "                if  data.iloc[i]['coop'] == \"coop\":\n",
    "                    data.loc[i, \"M24\"] = 0\n",
    "                else:\n",
    "                    data.loc[i, \"M24\"] = 1"
   ]
  },
  {
   "cell_type": "markdown",
   "metadata": {},
   "source": [
    "# אסטרטגיה 25"
   ]
  },
  {
   "cell_type": "code",
   "execution_count": null,
   "metadata": {
    "ExecuteTime": {
     "start_time": "2021-04-07T14:36:55.960Z"
    }
   },
   "outputs": [],
   "source": [
    "for i in a:\n",
    "    data = i\n",
    "    for i in range(data.shape[0]):\n",
    "        # אם בסיבוב הראשון שיתוף פעולה אז 1 אחרת 0\n",
    "        if data.iloc[i]['round'] == 1:\n",
    "            if data.iloc[i]['coop'] == 'coop':\n",
    "                 data.loc[i, \"M25\"] = 0\n",
    "            else:\n",
    "                data.loc[i, \"M25\"] = 1\n",
    "        # CC שניהם שיתפו\n",
    "        elif (data.iloc[i-1]['ocoop'] == \"coop\" and  data.iloc[i-1]['coop'] == \"coop\"):\n",
    "            if  data.iloc[i]['coop'] == \"coop\":\n",
    "                data.loc[i, \"M25\"] = 0\n",
    "            else:\n",
    "                data.loc[i, \"M25\"] = 1\n",
    "\n",
    "        # CD אם 1 שיתף ו2 לא שיתף\n",
    "        elif (data.iloc[i-1]['ocoop'] == \"defect\" and  data.iloc[i-1]['coop'] == \"coop\"):\n",
    "            if  data.iloc[i]['coop'] == \"coop\":\n",
    "                data.loc[i, \"M25\"] = 1\n",
    "            else:\n",
    "                data.loc[i, \"M25\"] = 0\n",
    "\n",
    "        # DC אם 1 לא שיתף ו2  שיתף\n",
    "        elif (data.iloc[i-1]['ocoop'] == \"coop\" and  data.iloc[i-1]['coop'] == \"defect\"):\n",
    "            if  data.iloc[i]['coop'] == \"coop\":\n",
    "                data.loc[i, \"M25\"] = 1\n",
    "            else:\n",
    "                data.loc[i, \"M25\"] = 0\n",
    "\n",
    "        # שניהם לא שיתפו\n",
    "        # DD\n",
    "        else:\n",
    "            if (data.iloc[i-1]['ocoop'] == \"defect\" and  data.iloc[i-1]['coop'] == \"defect\"):\n",
    "                if  data.iloc[i]['coop'] == \"coop\":\n",
    "                    data.loc[i, \"M25\"] = 1\n",
    "                else:\n",
    "                    data.loc[i, \"M25\"] = 0"
   ]
  },
  {
   "cell_type": "markdown",
   "metadata": {},
   "source": [
    "# אסטרטגיה 26"
   ]
  },
  {
   "cell_type": "code",
   "execution_count": null,
   "metadata": {
    "ExecuteTime": {
     "start_time": "2021-04-07T14:36:56.695Z"
    }
   },
   "outputs": [],
   "source": [
    "for i in a:\n",
    "    data = i\n",
    "    for i in range(data.shape[0]):\n",
    "        # אם בסיבוב הראשון שיתוף פעולה אז 1 אחרת 0\n",
    "        if data.iloc[i]['round'] == 1:\n",
    "            if data.iloc[i]['coop'] == 'coop':\n",
    "                 data.loc[i, \"M26\"] = 0\n",
    "            else:\n",
    "                data.loc[i, \"M26\"] = 1\n",
    "        # CC שניהם שיתפו\n",
    "        elif (data.iloc[i-1]['ocoop'] == \"coop\" and  data.iloc[i-1]['coop'] == \"coop\"):\n",
    "            if  data.iloc[i]['coop'] == \"coop\":\n",
    "                data.loc[i, \"M26\"] = 0\n",
    "            else:\n",
    "                data.loc[i, \"M26\"] = 1\n",
    "\n",
    "        # CD אם 1 שיתף ו2 לא שיתף\n",
    "        elif (data.iloc[i-1]['ocoop'] == \"defect\" and  data.iloc[i-1]['coop'] == \"coop\"):\n",
    "            if  data.iloc[i]['coop'] == \"coop\":\n",
    "                data.loc[i, \"M26\"] = 1\n",
    "            else:\n",
    "                data.loc[i, \"M26\"] = 0\n",
    "\n",
    "        # DC אם 1 לא שיתף ו2  שיתף\n",
    "        elif (data.iloc[i-1]['ocoop'] == \"coop\" and  data.iloc[i-1]['coop'] == \"defect\"):\n",
    "            if  data.iloc[i]['coop'] == \"coop\":\n",
    "                data.loc[i, \"M26\"] = 1\n",
    "            else:\n",
    "                data.loc[i, \"M26\"] = 0\n",
    "\n",
    "        # שניהם לא שיתפו\n",
    "        # DD\n",
    "        else:\n",
    "            if (data.iloc[i-1]['ocoop'] == \"defect\" and  data.iloc[i-1]['coop'] == \"defect\"):\n",
    "                if  data.iloc[i]['coop'] == \"coop\":\n",
    "                    data.loc[i, \"M26\"] = 0\n",
    "                else:\n",
    "                    data.loc[i, \"M26\"] = 1"
   ]
  },
  {
   "cell_type": "code",
   "execution_count": null,
   "metadata": {
    "ExecuteTime": {
     "end_time": "2021-02-24T16:56:51.266370Z",
     "start_time": "2021-02-24T16:56:51.201514Z"
    }
   },
   "outputs": [],
   "source": []
  },
  {
   "cell_type": "markdown",
   "metadata": {},
   "source": [
    "# אסטרטגיה 27"
   ]
  },
  {
   "cell_type": "code",
   "execution_count": null,
   "metadata": {
    "ExecuteTime": {
     "start_time": "2021-04-07T14:36:58.204Z"
    }
   },
   "outputs": [],
   "source": [
    "for i in a:\n",
    "    data = i\n",
    "    for i in range(data.shape[0]):\n",
    "        # אם בסיבוב הראשון שיתוף פעולה אז 1 אחרת 0\n",
    "        if data.iloc[i]['round'] == 1:\n",
    "            if data.iloc[i]['coop'] == 'coop':\n",
    "                 data.loc[i, \"M27\"] = 0\n",
    "            else:\n",
    "                data.loc[i, \"M27\"] = 1\n",
    "        # CC שניהם שיתפו\n",
    "        elif (data.iloc[i-1]['ocoop'] == \"coop\" and  data.iloc[i-1]['coop'] == \"coop\"):\n",
    "            if  data.iloc[i]['coop'] == \"coop\":\n",
    "                data.loc[i, \"M27\"] = 0\n",
    "            else:\n",
    "                data.loc[i, \"M27\"] = 1\n",
    "\n",
    "        # CD אם 1 שיתף ו2 לא שיתף\n",
    "        elif (data.iloc[i-1]['ocoop'] == \"defect\" and  data.iloc[i-1]['coop'] == \"coop\"):\n",
    "            if  data.iloc[i]['coop'] == \"coop\":\n",
    "                data.loc[i, \"M27\"] = 1\n",
    "            else:\n",
    "                data.loc[i, \"M27\"] = 0\n",
    "\n",
    "        # DC אם 1 לא שיתף ו2  שיתף\n",
    "        elif (data.iloc[i-1]['ocoop'] == \"coop\" and  data.iloc[i-1]['coop'] == \"defect\"):\n",
    "            if  data.iloc[i]['coop'] == \"coop\":\n",
    "                data.loc[i, \"M27\"] = 0\n",
    "            else:\n",
    "                data.loc[i, \"M27\"] = 1\n",
    "\n",
    "        # שניהם לא שיתפו\n",
    "        # DD\n",
    "        else:\n",
    "            if (data.iloc[i-1]['ocoop'] == \"defect\" and  data.iloc[i-1]['coop'] == \"defect\"):\n",
    "                if  data.iloc[i]['coop'] == \"coop\":\n",
    "                    data.loc[i, \"M27\"] = 1\n",
    "                else:\n",
    "                    data.loc[i, \"M27\"] = 0\n",
    "\n"
   ]
  },
  {
   "cell_type": "markdown",
   "metadata": {},
   "source": [
    "# אסטרטגיה 28"
   ]
  },
  {
   "cell_type": "code",
   "execution_count": null,
   "metadata": {
    "ExecuteTime": {
     "start_time": "2021-04-07T14:36:59.227Z"
    }
   },
   "outputs": [],
   "source": [
    "for i in a:\n",
    "    data = i\n",
    "    for i in range(data.shape[0]):\n",
    "        # אם בסיבוב הראשון שיתוף פעולה אז 1 אחרת 0\n",
    "        if data.iloc[i]['round'] == 1:\n",
    "            if data.iloc[i]['coop'] == 'coop':\n",
    "                 data.loc[i, \"M28\"] = 0\n",
    "            else:\n",
    "                data.loc[i, \"M28\"] = 1\n",
    "        # CC שניהם שיתפו\n",
    "        elif (data.iloc[i-1]['ocoop'] == \"coop\" and  data.iloc[i-1]['coop'] == \"coop\"):\n",
    "            if  data.iloc[i]['coop'] == \"coop\":\n",
    "                data.loc[i, \"M28\"] = 0\n",
    "            else:\n",
    "                data.loc[i, \"M28\"] = 1\n",
    "\n",
    "        # CD אם 1 שיתף ו2 לא שיתף\n",
    "        elif (data.iloc[i-1]['ocoop'] == \"defect\" and  data.iloc[i-1]['coop'] == \"coop\"):\n",
    "            if  data.iloc[i]['coop'] == \"coop\":\n",
    "                data.loc[i, \"M28\"] = 1\n",
    "            else:\n",
    "                data.loc[i, \"M28\"] = 0\n",
    "\n",
    "        # DC אם 1 לא שיתף ו2  שיתף\n",
    "        elif (data.iloc[i-1]['ocoop'] == \"coop\" and  data.iloc[i-1]['coop'] == \"defect\"):\n",
    "            if  data.iloc[i]['coop'] == \"coop\":\n",
    "                data.loc[i, \"M28\"] = 0\n",
    "            else:\n",
    "                data.loc[i, \"M28\"] = 1\n",
    "\n",
    "        # שניהם לא שיתפו\n",
    "        # DD\n",
    "        else:\n",
    "            if (data.iloc[i-1]['ocoop'] == \"defect\" and  data.iloc[i-1]['coop'] == \"defect\"):\n",
    "                if  data.iloc[i]['coop'] == \"coop\":\n",
    "                    data.loc[i, \"M28\"] = 0\n",
    "                else:\n",
    "                    data.loc[i, \"M28\"] = 1"
   ]
  },
  {
   "cell_type": "markdown",
   "metadata": {},
   "source": [
    "# אסטרטגיה 29"
   ]
  },
  {
   "cell_type": "code",
   "execution_count": null,
   "metadata": {
    "ExecuteTime": {
     "start_time": "2021-04-07T14:37:00.155Z"
    }
   },
   "outputs": [],
   "source": [
    "for i in a:\n",
    "    data = i\n",
    "    for i in range(data.shape[0]):\n",
    "        # אם בסיבוב הראשון שיתוף פעולה אז 1 אחרת 0\n",
    "        if data.iloc[i]['round'] == 1:\n",
    "            if data.iloc[i]['coop'] == 'coop':\n",
    "                 data.loc[i, \"M29\"] = 0\n",
    "            else:\n",
    "                data.loc[i, \"M29\"] = 1\n",
    "        # CC שניהם שיתפו\n",
    "        elif (data.iloc[i-1]['ocoop'] == \"coop\" and  data.iloc[i-1]['coop'] == \"coop\"):\n",
    "            if  data.iloc[i]['coop'] == \"coop\":\n",
    "                data.loc[i, \"M29\"] = 0\n",
    "            else:\n",
    "                data.loc[i, \"M29\"] = 1\n",
    "\n",
    "        # CD אם 1 שיתף ו2 לא שיתף\n",
    "        elif (data.iloc[i-1]['ocoop'] == \"defect\" and  data.iloc[i-1]['coop'] == \"coop\"):\n",
    "            if  data.iloc[i]['coop'] == \"coop\":\n",
    "                data.loc[i, \"M29\"] = 0\n",
    "            else:\n",
    "                data.loc[i, \"M29\"] = 1\n",
    "\n",
    "        # DC אם 1 לא שיתף ו2  שיתף\n",
    "        elif (data.iloc[i-1]['ocoop'] == \"coop\" and  data.iloc[i-1]['coop'] == \"defect\"):\n",
    "            if  data.iloc[i]['coop'] == \"coop\":\n",
    "                data.loc[i, \"M29\"] = 1\n",
    "            else:\n",
    "                data.loc[i, \"M29\"] = 0\n",
    "\n",
    "        # שניהם לא שיתפו\n",
    "        # DD\n",
    "        else:\n",
    "            if (data.iloc[i-1]['ocoop'] == \"defect\" and  data.iloc[i-1]['coop'] == \"defect\"):\n",
    "                if  data.iloc[i]['coop'] == \"coop\":\n",
    "                    data.loc[i, \"M29\"] = 1\n",
    "                else:\n",
    "                    data.loc[i, \"M29\"] = 0"
   ]
  },
  {
   "cell_type": "markdown",
   "metadata": {},
   "source": [
    "# אסטרטגיה 30"
   ]
  },
  {
   "cell_type": "code",
   "execution_count": null,
   "metadata": {
    "ExecuteTime": {
     "start_time": "2021-04-07T14:37:01.504Z"
    }
   },
   "outputs": [],
   "source": [
    "for i in a:\n",
    "    data = i\n",
    "    for i in range(data.shape[0]):\n",
    "        # אם בסיבוב הראשון שיתוף פעולה אז 1 אחרת 0\n",
    "        if data.iloc[i]['round'] == 1:\n",
    "            if data.iloc[i]['coop'] == 'coop':\n",
    "                 data.loc[i, \"M30\"] = 0\n",
    "            else:\n",
    "                data.loc[i, \"M30\"] = 1\n",
    "        # CC שניהם שיתפו\n",
    "        elif (data.iloc[i-1]['ocoop'] == \"coop\" and  data.iloc[i-1]['coop'] == \"coop\"):\n",
    "            if  data.iloc[i]['coop'] == \"coop\":\n",
    "                data.loc[i, \"M30\"] = 0\n",
    "            else:\n",
    "                data.loc[i, \"M30\"] = 1\n",
    "\n",
    "        # CD אם 1 שיתף ו2 לא שיתף\n",
    "        elif (data.iloc[i-1]['ocoop'] == \"defect\" and  data.iloc[i-1]['coop'] == \"coop\"):\n",
    "            if  data.iloc[i]['coop'] == \"coop\":\n",
    "                data.loc[i, \"M30\"] = 0\n",
    "            else:\n",
    "                data.loc[i, \"M30\"] = 1\n",
    "\n",
    "        # DC אם 1 לא שיתף ו2  שיתף\n",
    "        elif (data.iloc[i-1]['ocoop'] == \"coop\" and  data.iloc[i-1]['coop'] == \"defect\"):\n",
    "            if  data.iloc[i]['coop'] == \"coop\":\n",
    "                data.loc[i, \"M30\"] = 1\n",
    "            else:\n",
    "                data.loc[i, \"M30\"] = 0\n",
    "\n",
    "        # שניהם לא שיתפו\n",
    "        # DD\n",
    "        else:\n",
    "            if (data.iloc[i-1]['ocoop'] == \"defect\" and  data.iloc[i-1]['coop'] == \"defect\"):\n",
    "                if  data.iloc[i]['coop'] == \"coop\":\n",
    "                    data.loc[i, \"M30\"] = 0\n",
    "                else:\n",
    "                    data.loc[i, \"M30\"] = 1"
   ]
  },
  {
   "cell_type": "markdown",
   "metadata": {},
   "source": [
    "# אסטרטגיה 31"
   ]
  },
  {
   "cell_type": "code",
   "execution_count": null,
   "metadata": {
    "ExecuteTime": {
     "start_time": "2021-04-07T14:37:03.215Z"
    }
   },
   "outputs": [],
   "source": [
    "for i in a:\n",
    "    data = i\n",
    "    for i in range(data.shape[0]):\n",
    "        # אם בסיבוב הראשון שיתוף פעולה אז 1 אחרת 0\n",
    "        if data.iloc[i]['round'] == 1:\n",
    "            if data.iloc[i]['coop'] == 'coop':\n",
    "                 data.loc[i, \"M31\"] = 0\n",
    "            else:\n",
    "                data.loc[i, \"M31\"] = 1\n",
    "        # CC שניהם שיתפו\n",
    "        elif (data.iloc[i-1]['ocoop'] == \"coop\" and  data.iloc[i-1]['coop'] == \"coop\"):\n",
    "            if  data.iloc[i]['coop'] == \"coop\":\n",
    "                data.loc[i, \"M31\"] = 0\n",
    "            else:\n",
    "                data.loc[i, \"M31\"] = 1\n",
    "\n",
    "        # CD אם 1 שיתף ו2 לא שיתף\n",
    "        elif (data.iloc[i-1]['ocoop'] == \"defect\" and  data.iloc[i-1]['coop'] == \"coop\"):\n",
    "            if  data.iloc[i]['coop'] == \"coop\":\n",
    "                data.loc[i, \"M31\"] = 0\n",
    "            else:\n",
    "                data.loc[i, \"M31\"] = 1\n",
    "\n",
    "        # DC אם 1 לא שיתף ו2  שיתף\n",
    "        elif (data.iloc[i-1]['ocoop'] == \"coop\" and  data.iloc[i-1]['coop'] == \"defect\"):\n",
    "            if  data.iloc[i]['coop'] == \"coop\":\n",
    "                data.loc[i, \"M31\"] = 0\n",
    "            else:\n",
    "                data.loc[i, \"M31\"] = 1\n",
    "\n",
    "        # שניהם לא שיתפו\n",
    "        # DD\n",
    "        else:\n",
    "            if (data.iloc[i-1]['ocoop'] == \"defect\" and  data.iloc[i-1]['coop'] == \"defect\"):\n",
    "                if  data.iloc[i]['coop'] == \"coop\":\n",
    "                    data.loc[i, \"M31\"] = 1\n",
    "                else:\n",
    "                    data.loc[i, \"M31\"] = 0"
   ]
  },
  {
   "cell_type": "code",
   "execution_count": null,
   "metadata": {
    "ExecuteTime": {
     "start_time": "2021-04-07T14:37:03.815Z"
    }
   },
   "outputs": [],
   "source": [
    "len(a)"
   ]
  },
  {
   "cell_type": "code",
   "execution_count": null,
   "metadata": {
    "ExecuteTime": {
     "start_time": "2021-04-07T14:37:45.226Z"
    }
   },
   "outputs": [],
   "source": [
    "d0 = a[0]\n",
    "d1 = a[1]\n",
    "d2 = a[2]\n",
    "d3 = a[3]\n",
    "d4 = a[4]\n",
    "d5 = a[5]\n",
    "\n",
    "d0.to_excel(\"all%.xlsx\")\n",
    "d1.to_excel(\"10%.xlsx\")\n",
    "d2.to_excel(\"20%.xlsx\")\n",
    "d3.to_excel(\"30%.xlsx\")\n",
    "d4.to_excel(\"40%.xlsx\")\n",
    "d5.to_excel(\"50%.xlsx\")\n",
    "\n"
   ]
  },
  {
   "cell_type": "code",
   "execution_count": null,
   "metadata": {},
   "outputs": [],
   "source": []
  },
  {
   "cell_type": "markdown",
   "metadata": {},
   "source": [
    "# Probability to cooperation- Memory 0 and Memory 1 קוד לבדיקת היסטוריה"
   ]
  },
  {
   "cell_type": "markdown",
   "metadata": {
    "ExecuteTime": {
     "end_time": "2021-02-19T11:18:38.758131Z",
     "start_time": "2021-02-19T11:18:38.733Z"
    }
   },
   "source": [
    "data= pd.read_excel(\"history.xlsx\")\n",
    "data.head()"
   ]
  },
  {
   "cell_type": "code",
   "execution_count": null,
   "metadata": {
    "ExecuteTime": {
     "end_time": "2021-02-19T11:18:38.883796Z",
     "start_time": "2021-02-19T11:18:38.831Z"
    }
   },
   "outputs": [],
   "source": [
    "for i in range(data.shape[0]):\n",
    "    # אם בסיבוב הראשון שיתוף פעולה אז 1 אחרת 0\n",
    "    if data.iloc[i]['round'] == 1:\n",
    "        if data.iloc[i]['coop'] == 'coop':\n",
    "             data.loc[i, \"roundone\"] = 1\n",
    "        else:\n",
    "            data.loc[i, \"roundone\"] = 0\n",
    "    # CC שניהם שיתפו\n",
    "    elif (data.iloc[i-1]['ocoop'] == \"coop\" and  data.iloc[i-1]['coop'] == \"coop\"):\n",
    "        if  data.iloc[i]['coop'] == \"coop\":\n",
    "            data.loc[i, \"aftercc\"] = 1\n",
    "        else:\n",
    "            data.loc[i, \"aftercc\"] = 0\n",
    "                \n",
    "    # CD אם 1 שיתף ו2 לא שיתף\n",
    "    elif (data.iloc[i-1]['ocoop'] == \"defect\" and  data.iloc[i-1]['coop'] == \"coop\"):\n",
    "        if  data.iloc[i]['coop'] == \"coop\":\n",
    "            data.loc[i, \"aftercd\"] = 1\n",
    "        else:\n",
    "            data.loc[i, \"aftercd\"] = 0\n",
    "\n",
    "    # DC אם 1 לא שיתף ו2  שיתף\n",
    "    elif (data.iloc[i-1]['ocoop'] == \"coop\" and  data.iloc[i-1]['coop'] == \"defect\"):\n",
    "        if  data.iloc[i]['coop'] == \"coop\":\n",
    "            data.loc[i, \"afterdc\"] = 1\n",
    "        else:\n",
    "            data.loc[i, \"afterdc\"] = 0\n",
    "\n",
    "    # שניהם לא שיתפו\n",
    "    # DD\n",
    "    else:\n",
    "        if (data.iloc[i-1]['ocoop'] == \"defect\" and  data.iloc[i-1]['coop'] == \"defect\"):\n",
    "            if  data.iloc[i]['coop'] == \"coop\":\n",
    "                data.loc[i, \"afterdd\"] = 1\n",
    "            else:\n",
    "                data.loc[i, \"afterdd\"] = 0"
   ]
  },
  {
   "cell_type": "code",
   "execution_count": null,
   "metadata": {},
   "outputs": [],
   "source": []
  },
  {
   "cell_type": "code",
   "execution_count": null,
   "metadata": {},
   "outputs": [],
   "source": []
  },
  {
   "cell_type": "code",
   "execution_count": null,
   "metadata": {},
   "outputs": [],
   "source": []
  },
  {
   "cell_type": "code",
   "execution_count": null,
   "metadata": {},
   "outputs": [],
   "source": []
  }
 ],
 "metadata": {
  "kernelspec": {
   "display_name": "Python 3 (ipykernel)",
   "language": "python",
   "name": "python3"
  },
  "language_info": {
   "codemirror_mode": {
    "name": "ipython",
    "version": 3
   },
   "file_extension": ".py",
   "mimetype": "text/x-python",
   "name": "python",
   "nbconvert_exporter": "python",
   "pygments_lexer": "ipython3",
   "version": "3.9.12"
  },
  "nbTranslate": {
   "displayLangs": [
    "*"
   ],
   "hotkey": "alt-t",
   "langInMainMenu": true,
   "sourceLang": "en",
   "targetLang": "fr",
   "useGoogleTranslate": true
  },
  "toc": {
   "base_numbering": 1,
   "nav_menu": {},
   "number_sections": true,
   "sideBar": true,
   "skip_h1_title": false,
   "title_cell": "Table of Contents",
   "title_sidebar": "Contents",
   "toc_cell": false,
   "toc_position": {
    "height": "calc(100% - 180px)",
    "left": "10px",
    "top": "150px",
    "width": "176.925px"
   },
   "toc_section_display": true,
   "toc_window_display": true
  },
  "varInspector": {
   "cols": {
    "lenName": 16,
    "lenType": 16,
    "lenVar": 40
   },
   "kernels_config": {
    "python": {
     "delete_cmd_postfix": "",
     "delete_cmd_prefix": "del ",
     "library": "var_list.py",
     "varRefreshCmd": "print(var_dic_list())"
    },
    "r": {
     "delete_cmd_postfix": ") ",
     "delete_cmd_prefix": "rm(",
     "library": "var_list.r",
     "varRefreshCmd": "cat(var_dic_list()) "
    }
   },
   "types_to_exclude": [
    "module",
    "function",
    "builtin_function_or_method",
    "instance",
    "_Feature"
   ],
   "window_display": false
  }
 },
 "nbformat": 4,
 "nbformat_minor": 2
}
