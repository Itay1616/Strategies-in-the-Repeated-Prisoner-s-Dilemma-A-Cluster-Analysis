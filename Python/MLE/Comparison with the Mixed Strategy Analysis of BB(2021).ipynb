{
 "cells": [
  {
   "cell_type": "markdown",
   "id": "b42957b6",
   "metadata": {},
   "source": [
    "# Import"
   ]
  },
  {
   "cell_type": "code",
   "execution_count": 32,
   "id": "54e363b2",
   "metadata": {},
   "outputs": [],
   "source": [
    "import pandas as pd\n",
    "import numpy as np\n",
    "import matplotlib.pyplot as plt\n",
    "from sklearn import datasets, linear_model\n",
    "from sklearn.metrics import mean_squared_error, r2_score\n",
    "from numpy import log as ln"
   ]
  },
  {
   "cell_type": "markdown",
   "id": "56846636",
   "metadata": {},
   "source": [
    "# DF"
   ]
  },
  {
   "cell_type": "code",
   "execution_count": 33,
   "id": "9e88c0a9",
   "metadata": {},
   "outputs": [],
   "source": [
    "#First supergames.xlsx - for first super games\n",
    "#second supergame.xlsx - for second super games\n",
    "#MLE for K=5 for all data"
   ]
  },
  {
   "cell_type": "code",
   "execution_count": 34,
   "id": "f2bb5ba9",
   "metadata": {},
   "outputs": [],
   "source": [
    "data = pd.read_excel(\"All supergames.xlsx\")"
   ]
  },
  {
   "cell_type": "code",
   "execution_count": 35,
   "id": "38afa398",
   "metadata": {},
   "outputs": [
    {
     "data": {
      "text/html": [
       "<div>\n",
       "<style scoped>\n",
       "    .dataframe tbody tr th:only-of-type {\n",
       "        vertical-align: middle;\n",
       "    }\n",
       "\n",
       "    .dataframe tbody tr th {\n",
       "        vertical-align: top;\n",
       "    }\n",
       "\n",
       "    .dataframe thead th {\n",
       "        text-align: right;\n",
       "    }\n",
       "</style>\n",
       "<table border=\"1\" class=\"dataframe\">\n",
       "  <thead>\n",
       "    <tr style=\"text-align: right;\">\n",
       "      <th></th>\n",
       "      <th>paper</th>\n",
       "      <th>treatment:</th>\n",
       "      <th>ID</th>\n",
       "      <th>supergame</th>\n",
       "      <th>round</th>\n",
       "      <th>coop</th>\n",
       "      <th>ocoop</th>\n",
       "      <th>roundone</th>\n",
       "      <th>aftercc</th>\n",
       "      <th>aftercd</th>\n",
       "      <th>afterdc</th>\n",
       "      <th>afterdd</th>\n",
       "    </tr>\n",
       "  </thead>\n",
       "  <tbody>\n",
       "    <tr>\n",
       "      <th>0</th>\n",
       "      <td>Dal Bo 2005</td>\n",
       "      <td>18</td>\n",
       "      <td>327</td>\n",
       "      <td>1</td>\n",
       "      <td>1</td>\n",
       "      <td>defect</td>\n",
       "      <td>coop</td>\n",
       "      <td>0.0</td>\n",
       "      <td>NaN</td>\n",
       "      <td>NaN</td>\n",
       "      <td>NaN</td>\n",
       "      <td>NaN</td>\n",
       "    </tr>\n",
       "    <tr>\n",
       "      <th>1</th>\n",
       "      <td>Dal Bo 2005</td>\n",
       "      <td>18</td>\n",
       "      <td>327</td>\n",
       "      <td>1</td>\n",
       "      <td>2</td>\n",
       "      <td>defect</td>\n",
       "      <td>defect</td>\n",
       "      <td>NaN</td>\n",
       "      <td>NaN</td>\n",
       "      <td>NaN</td>\n",
       "      <td>0.0</td>\n",
       "      <td>NaN</td>\n",
       "    </tr>\n",
       "    <tr>\n",
       "      <th>2</th>\n",
       "      <td>Dal Bo 2005</td>\n",
       "      <td>18</td>\n",
       "      <td>327</td>\n",
       "      <td>2</td>\n",
       "      <td>1</td>\n",
       "      <td>defect</td>\n",
       "      <td>coop</td>\n",
       "      <td>0.0</td>\n",
       "      <td>NaN</td>\n",
       "      <td>NaN</td>\n",
       "      <td>NaN</td>\n",
       "      <td>NaN</td>\n",
       "    </tr>\n",
       "    <tr>\n",
       "      <th>3</th>\n",
       "      <td>Dal Bo 2005</td>\n",
       "      <td>18</td>\n",
       "      <td>327</td>\n",
       "      <td>2</td>\n",
       "      <td>2</td>\n",
       "      <td>defect</td>\n",
       "      <td>defect</td>\n",
       "      <td>NaN</td>\n",
       "      <td>NaN</td>\n",
       "      <td>NaN</td>\n",
       "      <td>0.0</td>\n",
       "      <td>NaN</td>\n",
       "    </tr>\n",
       "    <tr>\n",
       "      <th>4</th>\n",
       "      <td>Dal Bo 2005</td>\n",
       "      <td>18</td>\n",
       "      <td>327</td>\n",
       "      <td>2</td>\n",
       "      <td>3</td>\n",
       "      <td>defect</td>\n",
       "      <td>defect</td>\n",
       "      <td>NaN</td>\n",
       "      <td>NaN</td>\n",
       "      <td>NaN</td>\n",
       "      <td>NaN</td>\n",
       "      <td>0.0</td>\n",
       "    </tr>\n",
       "  </tbody>\n",
       "</table>\n",
       "</div>"
      ],
      "text/plain": [
       "         paper  treatment:   ID  supergame  round    coop   ocoop  roundone  \\\n",
       "0  Dal Bo 2005          18  327          1      1  defect    coop       0.0   \n",
       "1  Dal Bo 2005          18  327          1      2  defect  defect       NaN   \n",
       "2  Dal Bo 2005          18  327          2      1  defect    coop       0.0   \n",
       "3  Dal Bo 2005          18  327          2      2  defect  defect       NaN   \n",
       "4  Dal Bo 2005          18  327          2      3  defect  defect       NaN   \n",
       "\n",
       "   aftercc  aftercd  afterdc  afterdd  \n",
       "0      NaN      NaN      NaN      NaN  \n",
       "1      NaN      NaN      0.0      NaN  \n",
       "2      NaN      NaN      NaN      NaN  \n",
       "3      NaN      NaN      0.0      NaN  \n",
       "4      NaN      NaN      NaN      0.0  "
      ]
     },
     "execution_count": 35,
     "metadata": {},
     "output_type": "execute_result"
    }
   ],
   "source": [
    "data.head()"
   ]
  },
  {
   "cell_type": "markdown",
   "id": "704cf63c",
   "metadata": {},
   "source": [
    "# Define the Vectors"
   ]
  },
  {
   "cell_type": "code",
   "execution_count": 36,
   "id": "52808bbb",
   "metadata": {},
   "outputs": [],
   "source": [
    "AD0BB, ADCCBB, ADCDBB, ADDCBB, ADDDBB = 0.0214,0.0214,0.0214,0.0214,0.0214\n",
    "CSG0BB, CSGCCBB, CSGCDBB, CSGDCBB, CSGDDBB = 0.886, 0.977, 0.399, 0.399, 0.0708\n",
    "DSG0BB, DSGCCBB, DSGCDBB, DSGDCBB, DSGDDBB = 0.2934, 0.90367, 0.3875, 0.3875, 0.0759"
   ]
  },
  {
   "cell_type": "markdown",
   "id": "03a562f2",
   "metadata": {},
   "source": [
    "# Define all Function"
   ]
  },
  {
   "cell_type": "code",
   "execution_count": 37,
   "id": "0b7fa238",
   "metadata": {
    "code_folding": [
     0
    ]
   },
   "outputs": [],
   "source": [
    "def MLE_BB (data,AD0BB, ADCCBB, ADCDBB, ADDCBB, ADDDBB ,CSG0BB, CSGCCBB, CSGCDBB,CSGDCBB, CSGDDBB ,DSG0BB, DSGCCBB, DSGCDBB, DSGDCBB, DSGDDBB):\n",
    "    for i in range(data.shape[0]):\n",
    "       \n",
    "        if data.iloc[i]['round'] == 1:\n",
    "            if data.iloc[i]['coop'] == 'coop':\n",
    "                data.loc[i, \"AD\"] = abs(ln(AD0BB))\n",
    "                data.loc[i, \"CSG\"] = abs(ln(CSG0BB))\n",
    "                data.loc[i, \"DSG\"] = abs(ln(DSG0BB))\n",
    "            else:\n",
    "                data.loc[i, \"AD\"] = abs(ln(1-AD0BB))\n",
    "                data.loc[i, \"CSG\"] = abs(ln(1-CSG0BB))\n",
    "                data.loc[i, \"DSG\"] = abs(ln(1-DSG0BB))\n",
    "         \n",
    "        \n",
    "        else:\n",
    "       \n",
    "            if (data.iloc[i-1]['ocoop'] == \"coop\" and  data.iloc[i-1]['coop'] == \"coop\"):\n",
    "                if  data.iloc[i]['coop'] == \"coop\":\n",
    "                    data.loc[i, \"AD\"] = abs(ln(ADCCBB))\n",
    "                    data.loc[i, \"CSG\"] = abs(ln(CSGCCBB))\n",
    "                    data.loc[i, \"DSG\"] = abs(ln(DSGCCBB))\n",
    "                else:\n",
    "                    data.loc[i, \"AD\"] = abs(ln(1-ADCCBB))\n",
    "                    data.loc[i, \"CSG\"] = abs(ln(1-CSGCCBB))\n",
    "                    data.loc[i, \"DSG\"] = abs(ln(1-DSGCCBB))\n",
    "\n",
    "\n",
    "            \n",
    "            elif (data.iloc[i-1]['ocoop'] == \"defect\" and  data.iloc[i-1]['coop'] == \"coop\"):\n",
    "                if  data.iloc[i]['coop'] == \"coop\":\n",
    "                    data.loc[i, \"AD\"] = abs(ln(ADCDBB))\n",
    "                    data.loc[i, \"CSG\"] = abs(ln(CSGCDBB))\n",
    "                    data.loc[i, \"DSG\"] = abs(ln(DSGCDBB))\n",
    "\n",
    "                else:\n",
    "                    data.loc[i, \"AD\"] = abs(ln(1-ADCDBB))\n",
    "                    data.loc[i, \"CSG\"] = abs(ln(1-CSGCDBB))\n",
    "                    data.loc[i, \"DSG\"] = abs(ln(1-DSGCDBB))\n",
    "\n",
    "                    \n",
    "            elif (data.iloc[i-1]['ocoop'] == \"coop\" and  data.iloc[i-1]['coop'] == \"defect\"):\n",
    "                if  data.iloc[i]['coop'] == \"coop\":\n",
    "                    data.loc[i, \"AD\"] = abs(ln(ADDCBB))\n",
    "                    data.loc[i, \"CSG\"] = abs(ln(CSGDCBB))\n",
    "                    data.loc[i, \"DSG\"] = abs(ln(DSGDCBB))\n",
    "                else:\n",
    "                    data.loc[i, \"AD\"] = abs(ln(1-ADDCBB))\n",
    "                    data.loc[i, \"CSG\"] = abs(ln(1-CSGDCBB))\n",
    "                    data.loc[i, \"DSG\"] = abs(ln(1-DSGDCBB))\n",
    "\n",
    "                    \n",
    "            else:\n",
    "                if (data.iloc[i-1]['ocoop'] == \"defect\" and  data.iloc[i-1]['coop'] == \"defect\"):\n",
    "                    if  data.iloc[i]['coop'] == \"coop\":\n",
    "                        data.loc[i, \"AD\"] = abs(ln(ADDDBB))\n",
    "                        data.loc[i, \"CSG\"] = abs(ln(CSGDDBB))\n",
    "                        data.loc[i, \"DSG\"] = abs(ln(DSGDDBB))\n",
    "\n",
    "                    else:\n",
    "                        data.loc[i, \"AD\"] = abs(ln(1-ADDDBB))\n",
    "                        data.loc[i, \"CSG\"] = abs(ln(1-CSGDDBB))\n",
    "                        data.loc[i, \"DSG\"] = abs(ln(1-DSGDDBB))\n",
    "\n",
    "                        \n",
    "    return(data)\n",
    "\n"
   ]
  },
  {
   "cell_type": "code",
   "execution_count": 38,
   "id": "12648373",
   "metadata": {
    "code_folding": []
   },
   "outputs": [],
   "source": [
    "def MLE_calculate_BB(data):\n",
    "    table = pd.pivot_table(data, values=['AD',\"CSG\",\"DSG\"], index=['ID'], aggfunc=np.sum)\n",
    "    return (table)"
   ]
  },
  {
   "cell_type": "code",
   "execution_count": 39,
   "id": "59d4e6fa",
   "metadata": {},
   "outputs": [],
   "source": [
    "def MLE_min_BB (data):\n",
    "    mle = sum(data.min(axis=1))\n",
    "    data['min'] = data.min(axis=1)\n",
    "    return (mle,data)"
   ]
  },
  {
   "cell_type": "code",
   "execution_count": 40,
   "id": "9238a2b3",
   "metadata": {
    "code_folding": []
   },
   "outputs": [],
   "source": [
    "def Cluster_BB (data):\n",
    "    cluster = []\n",
    "    for i in range (data.shape[0]):\n",
    "        if data.iloc[i]['AD']== data.iloc[i]['min']:\n",
    "            cluster.append(1)\n",
    "        if data.iloc[i]['CSG']== data.iloc[i]['min']:\n",
    "            cluster.append(2)\n",
    "        if data.iloc[i]['DSG']== data.iloc[i]['min']:\n",
    "            cluster.append(3)\n",
    "    data['class'] = cluster\n",
    "    return(data)\n",
    "\n"
   ]
  },
  {
   "cell_type": "code",
   "execution_count": 41,
   "id": "eb8d7cb0",
   "metadata": {
    "code_folding": []
   },
   "outputs": [],
   "source": [
    "def vLookup_BB (data,table):\n",
    "    data = pd.merge(data, table['class'], on ='ID', how ='inner',)\n",
    "    return (data)\n",
    "\n"
   ]
  },
  {
   "cell_type": "code",
   "execution_count": 42,
   "id": "b8648a3c",
   "metadata": {
    "code_folding": [
     0
    ]
   },
   "outputs": [],
   "source": [
    "def N_class_BB (data):\n",
    "    table2 = pd.pivot_table(data, values=[\"class\"], index=['ID'], aggfunc=np.mean)\n",
    "    \n",
    "    class1 = sum(table2['class'] == 1)\n",
    "    class2 = sum(table2['class'] == 2)\n",
    "    class3 = sum(table2['class'] == 3)\n",
    "    return(class1,class2,class3)\n",
    "\n"
   ]
  },
  {
   "cell_type": "code",
   "execution_count": 43,
   "id": "80879302",
   "metadata": {
    "code_folding": [
     0
    ]
   },
   "outputs": [],
   "source": [
    "def vector_BB (data):\n",
    "    table2 = pd.pivot_table(data, values=['roundone','aftercc','aftercd', 'afterdc', 'afterdd'],\n",
    "                        index=[\"class\"], aggfunc=np.mean)\n",
    "    \n",
    "    AD0, ADCC, ADCD, ADDC, ADDD = table2.iloc[0,4],table2.iloc[0,0],table2.iloc[0,1],table2.iloc[0,2],table2.iloc[0,3]\n",
    "    CSG0, CSGCC, CSGCD, CSGDC, CSGDD =table2.iloc[1,4],table2.iloc[1,0],table2.iloc[1,1],table2.iloc[1,2],table2.iloc[1,3]\n",
    "    DSG0, DSGCC, DSGCD, DSGDC, DSGDD = table2.iloc[2,4],table2.iloc[2,0],table2.iloc[2,1],table2.iloc[2,2],table2.iloc[2,3]\n",
    "    \n",
    "    table3 = pd.pivot_table(data, values=['roundone','aftercc','aftercd', 'afterdc', 'afterdd'],\n",
    "                        index=[\"class\"], aggfunc='count')\n",
    "    \n",
    "    AD0c, ADCCc, ADCDc, ADDCc, ADDDc = table3.iloc[0,4],table3.iloc[0,0],table3.iloc[0,1],table3.iloc[0,2],table3.iloc[0,3]\n",
    "    CSG0c, CSGCCc, CSGCDc, CSGDCc, CSGDDc =table3.iloc[1,4],table3.iloc[1,0],table3.iloc[1,1],table3.iloc[1,2],table3.iloc[1,3]\n",
    "    DSG0c, DSGCCc, DSGCDc, DSGDCc, DSGDDc = table3.iloc[2,4],table3.iloc[2,0],table3.iloc[2,1],table3.iloc[2,2],table3.iloc[2,3]\n",
    "    \n",
    "    AD0 = (((AD0*AD0c)+(ADCC*ADCCc)+(ADCD*ADCDc)+(ADDC*ADDCc)+(ADDD*ADDDc))/(AD0c+ADCCc+ADCDc+ADDCc+ADDDc))\n",
    "    ADCC = ADCD = ADDC = ADDD = AD0\n",
    "    \n",
    "    CSGCD = (((CSGCDc * CSGCD)+(CSGDCc * CSGDC))/(CSGDCc+CSGCDc))\n",
    "    CSGDC = CSGCD\n",
    "    \n",
    "    DSGCD = (((DSGCDc * DSGCD)+(DSGDCc * DSGDC))/(DSGDCc+DSGCDc))\n",
    "    DSGDC = DSGCD\n",
    "    \n",
    "    return(AD0, ADCC, ADCD, ADDC, ADDD,CSG0, CSGCC, CSGCD, CSGDC, CSGDD,DSG0, DSGCC, DSGCD, DSGDC, DSGDD)"
   ]
  },
  {
   "cell_type": "code",
   "execution_count": 44,
   "id": "dd69f634",
   "metadata": {
    "code_folding": [
     0
    ]
   },
   "outputs": [],
   "source": [
    "def change_class (df1,df2,fit=0):\n",
    "    for i in range (df2.shape[0]):\n",
    "        if df2.iloc[i]['class']== df1.iloc[i]['class']:\n",
    "            fit+=1\n",
    "    return (fit/1734)"
   ]
  },
  {
   "cell_type": "code",
   "execution_count": 45,
   "id": "1adf78b6",
   "metadata": {
    "code_folding": []
   },
   "outputs": [],
   "source": [
    "def BB_Main_MLE (data,AD0BB, ADCCBB, ADCDBB, ADDCBB, ADDDBB ,CSG0BB, CSGCCBB, CSGCDBB, CSGDCBB, CSGDDBB ,DSG0BB, DSGCCBB, DSGCDBB, DSGDCBB, DSGDDBB):\n",
    "    \n",
    "    BBclass1 = []\n",
    "    BBclass2 = []\n",
    "    BBclass3 = []\n",
    "    BBMLE = []\n",
    "    class_change = []\n",
    "    \n",
    "    for i in range (1) :\n",
    "        \n",
    "        if i >0 :\n",
    "            BB = MLE_BB (data,AD0BB, ADCCBB, ADCDBB, ADDCBB, ADDDBB ,CSG0BB, CSGCCBB, CSGCDBB,CSGDCBB, CSGDDBB ,DSG0BB, DSGCCBB, DSGCDBB, DSGDCBB, DSGDDBB)\n",
    "            table_BB = MLE_calculate_BB (BB)\n",
    "            BBmle , table_BB = MLE_min_BB(table_BB)\n",
    "            df_cluster_BB = Cluster_BB(table_BB)\n",
    "            fitt = change_class(df_cluster_BB2,df_cluster_BB,fit=0)\n",
    "            df_vlook_BB = vLookup_BB (BB, table_BB)\n",
    "            class1BB,class2BB,class3BB = N_class_BB (df_vlook_BB)\n",
    "        \n",
    "            \n",
    "        else:\n",
    "            BB = MLE_BB (data,AD0BB, ADCCBB, ADCDBB, ADDCBB, ADDDBB ,CSG0BB, CSGCCBB, CSGCDBB,CSGDCBB, CSGDDBB ,DSG0BB, DSGCCBB, DSGCDBB, DSGDCBB, DSGDDBB)\n",
    "            table_BB = MLE_calculate_BB (BB)\n",
    "            BBmle , table_BB = MLE_min_BB(table_BB)\n",
    "            df_cluster_BB = Cluster_BB(table_BB)\n",
    "            df_vlook_BB = vLookup_BB (BB, table_BB)\n",
    "            class1BB,class2BB,class3BB = N_class_BB (df_vlook_BB)\n",
    "            df_cluster_BB2 = df_cluster_BB\n",
    "            fitt = 1\n",
    "            \n",
    "        \n",
    "        AD0BB, ADCCBB, ADCDBB, ADDCBB, ADDDBB,CSG0BB, CSGCCBB, CSGCDBB, CSGDCBB, CSGDDBB,DSG0BB, DSGCCBB, DSGCDBB, DSGDCBB, DSGDDBB = vector_BB(df_vlook_BB) \n",
    "          \n",
    "        \n",
    "        class_change.append(fitt)\n",
    "        BBMLE.append(BBmle)\n",
    "        BBclass1.append(class1BB)\n",
    "        BBclass2.append(class2BB)\n",
    "        BBclass3.append(class3BB)\n",
    "    \n",
    "    \n",
    "    return(BBMLE, BBclass1,BBclass2,BBclass3,class_change,AD0BB, ADCCBB, ADCDBB, ADDCBB, ADDDBB ,CSG0BB, CSGCCBB, CSGCDBB, CSGDCBB, CSGDDBB ,DSG0BB, DSGCCBB, DSGCDBB, DSGDCBB, DSGDDBB)\n",
    "\n"
   ]
  },
  {
   "cell_type": "code",
   "execution_count": 46,
   "id": "e75c285e",
   "metadata": {},
   "outputs": [],
   "source": [
    "MLE_BB, class11_B,class22_B,class33_B,fit_class, AD0B, ADCCB, ADCDB, ADDCB, ADDDB ,CSG0B, CSGCCB, CSGCDB, CSGDCB, CSGDDB ,DSG0B, DSGCCB, DSGCDB, DSGDCB, DSGDDB = BB_Main_MLE(data,AD0BB, ADCCBB, ADCDBB, ADDCBB, ADDDBB ,CSG0BB, CSGCCBB, CSGCDBB, CSGDCBB, CSGDDBB ,DSG0BB, DSGCCBB, DSGCDBB, DSGDCBB, DSGDDBB)"
   ]
  },
  {
   "cell_type": "code",
   "execution_count": 47,
   "id": "4d63fe3a",
   "metadata": {},
   "outputs": [
    {
     "data": {
      "text/plain": [
       "[43065.01783800889]"
      ]
     },
     "execution_count": 47,
     "metadata": {},
     "output_type": "execute_result"
    }
   ],
   "source": [
    "MLE_BB"
   ]
  },
  {
   "cell_type": "code",
   "execution_count": null,
   "id": "5494434b",
   "metadata": {},
   "outputs": [],
   "source": []
  },
  {
   "cell_type": "code",
   "execution_count": null,
   "id": "c4789b3e",
   "metadata": {},
   "outputs": [],
   "source": []
  }
 ],
 "metadata": {
  "kernelspec": {
   "display_name": "Python 3 (ipykernel)",
   "language": "python",
   "name": "python3"
  },
  "language_info": {
   "codemirror_mode": {
    "name": "ipython",
    "version": 3
   },
   "file_extension": ".py",
   "mimetype": "text/x-python",
   "name": "python",
   "nbconvert_exporter": "python",
   "pygments_lexer": "ipython3",
   "version": "3.9.12"
  },
  "toc": {
   "base_numbering": 1,
   "nav_menu": {},
   "number_sections": true,
   "sideBar": true,
   "skip_h1_title": false,
   "title_cell": "Table of Contents",
   "title_sidebar": "Contents",
   "toc_cell": false,
   "toc_position": {
    "height": "calc(100% - 180px)",
    "left": "10px",
    "top": "150px",
    "width": "341.333px"
   },
   "toc_section_display": true,
   "toc_window_display": true
  },
  "varInspector": {
   "cols": {
    "lenName": 16,
    "lenType": 16,
    "lenVar": 40
   },
   "kernels_config": {
    "python": {
     "delete_cmd_postfix": "",
     "delete_cmd_prefix": "del ",
     "library": "var_list.py",
     "varRefreshCmd": "print(var_dic_list())"
    },
    "r": {
     "delete_cmd_postfix": ") ",
     "delete_cmd_prefix": "rm(",
     "library": "var_list.r",
     "varRefreshCmd": "cat(var_dic_list()) "
    }
   },
   "types_to_exclude": [
    "module",
    "function",
    "builtin_function_or_method",
    "instance",
    "_Feature"
   ],
   "window_display": false
  }
 },
 "nbformat": 4,
 "nbformat_minor": 5
}
