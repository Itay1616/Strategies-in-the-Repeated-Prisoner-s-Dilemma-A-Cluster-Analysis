{
 "cells": [
  {
   "cell_type": "markdown",
   "id": "b42957b6",
   "metadata": {},
   "source": [
    "# Import"
   ]
  },
  {
   "cell_type": "code",
   "execution_count": 1,
   "id": "54e363b2",
   "metadata": {},
   "outputs": [],
   "source": [
    "import pandas as pd\n",
    "import numpy as np\n",
    "import matplotlib.pyplot as plt\n",
    "from sklearn import datasets, linear_model\n",
    "from sklearn.metrics import mean_squared_error, r2_score\n",
    "from numpy import log as ln"
   ]
  },
  {
   "cell_type": "code",
   "execution_count": 2,
   "id": "6f4384cb",
   "metadata": {},
   "outputs": [],
   "source": [
    "df = pd.read_excel(\"All supergames.xlsx\")"
   ]
  },
  {
   "cell_type": "markdown",
   "id": "d4914ffd",
   "metadata": {},
   "source": [
    "# Vector"
   ]
  },
  {
   "cell_type": "code",
   "execution_count": 3,
   "id": "205091c6",
   "metadata": {},
   "outputs": [],
   "source": [
    "# The vector for All data :\n",
    "AD0, ADCC, ADCD, ADDC, ADDD = 0.069,0.21,0.167,0.097,0.024\n",
    "CSG0, CSGCC, CSGCD, CSGDC, CSGDD = 0.647, 0.974, 0.371, 0.773, 0.088\n",
    "DSG0, DSGCC, DSGCD, DSGDC, DSGDD = 0.598, 0.958, 0.276, 0.253, 0.061"
   ]
  },
  {
   "cell_type": "code",
   "execution_count": null,
   "id": "a7a11b00",
   "metadata": {},
   "outputs": [],
   "source": []
  },
  {
   "cell_type": "code",
   "execution_count": null,
   "id": "3e3da611",
   "metadata": {},
   "outputs": [],
   "source": []
  },
  {
   "cell_type": "markdown",
   "id": "18565aa4",
   "metadata": {},
   "source": [
    "# Function"
   ]
  },
  {
   "cell_type": "code",
   "execution_count": 4,
   "id": "79436636",
   "metadata": {
    "code_folding": [
     0
    ]
   },
   "outputs": [],
   "source": [
    "def MLE_K3 (data,AD0, ADCC, ADCD, ADDC, ADDD ,CSG0, CSGCC, CSGCD, CSGDC, CSGDD ,DSG0, DSGCC, DSGCD, DSGDC, DSGDD):\n",
    "    for i in range(data.shape[0]):\n",
    "       \n",
    "        if data.iloc[i]['round'] == 1:\n",
    "            if data.iloc[i]['coop'] == 'coop':\n",
    "                data.loc[i, \"AD\"] = abs(ln(AD0))\n",
    "                data.loc[i, \"CSG\"] = abs(ln(CSG0))\n",
    "                data.loc[i, \"DSG\"] = abs(ln(DSG0))\n",
    "            else:\n",
    "                data.loc[i, \"AD\"] = abs(ln(1-AD0))\n",
    "                data.loc[i, \"CSG\"] = abs(ln(1-CSG0))\n",
    "                data.loc[i, \"DSG\"] = abs(ln(1-DSG0))\n",
    "         \n",
    "        \n",
    "        else:\n",
    "       \n",
    "            if (data.iloc[i-1]['ocoop'] == \"coop\" and  data.iloc[i-1]['coop'] == \"coop\"):\n",
    "                if  data.iloc[i]['coop'] == \"coop\":\n",
    "                    data.loc[i, \"AD\"] = abs(ln(ADCC))\n",
    "                    data.loc[i, \"CSG\"] = abs(ln(CSGCC))\n",
    "                    data.loc[i, \"DSG\"] = abs(ln(DSGCC))\n",
    "                else:\n",
    "                    data.loc[i, \"AD\"] = abs(ln(1-ADCC))\n",
    "                    data.loc[i, \"CSG\"] = abs(ln(1-CSGCC))\n",
    "                    data.loc[i, \"DSG\"] = abs(ln(1-DSGCC))\n",
    "\n",
    "\n",
    "            \n",
    "            elif (data.iloc[i-1]['ocoop'] == \"defect\" and  data.iloc[i-1]['coop'] == \"coop\"):\n",
    "                if  data.iloc[i]['coop'] == \"coop\":\n",
    "                    data.loc[i, \"AD\"] = abs(ln(ADCD))\n",
    "                    data.loc[i, \"CSG\"] = abs(ln(CSGCD))\n",
    "                    data.loc[i, \"DSG\"] = abs(ln(DSGCD))\n",
    "\n",
    "                else:\n",
    "                    data.loc[i, \"AD\"] = abs(ln(1-ADCD))\n",
    "                    data.loc[i, \"CSG\"] = abs(ln(1-CSGCD))\n",
    "                    data.loc[i, \"DSG\"] = abs(ln(1-DSGCD))\n",
    "\n",
    "                    \n",
    "            elif (data.iloc[i-1]['ocoop'] == \"coop\" and  data.iloc[i-1]['coop'] == \"defect\"):\n",
    "                if  data.iloc[i]['coop'] == \"coop\":\n",
    "                    data.loc[i, \"AD\"] = abs(ln(ADDC))\n",
    "                    data.loc[i, \"CSG\"] = abs(ln(CSGDC))\n",
    "                    data.loc[i, \"DSG\"] = abs(ln(DSGDC))\n",
    "                else:\n",
    "                    data.loc[i, \"AD\"] = abs(ln(1-ADDC))\n",
    "                    data.loc[i, \"CSG\"] = abs(ln(1-CSGDC))\n",
    "                    data.loc[i, \"DSG\"] = abs(ln(1-DSGDC))\n",
    "\n",
    "                    \n",
    "            else:\n",
    "                if (data.iloc[i-1]['ocoop'] == \"defect\" and  data.iloc[i-1]['coop'] == \"defect\"):\n",
    "                    if  data.iloc[i]['coop'] == \"coop\":\n",
    "                        data.loc[i, \"AD\"] = abs(ln(ADDD))\n",
    "                        data.loc[i, \"CSG\"] = abs(ln(CSGDD))\n",
    "                        data.loc[i, \"DSG\"] = abs(ln(DSGDD))\n",
    "\n",
    "                    else:\n",
    "                        data.loc[i, \"AD\"] = abs(ln(1-ADDD))\n",
    "                        data.loc[i, \"CSG\"] = abs(ln(1-CSGDD))\n",
    "                        data.loc[i, \"DSG\"] = abs(ln(1-DSGDD))\n",
    "\n",
    "                        \n",
    "    return(df)"
   ]
  },
  {
   "cell_type": "code",
   "execution_count": 5,
   "id": "438d4a22",
   "metadata": {
    "code_folding": [
     0
    ]
   },
   "outputs": [],
   "source": [
    "def MLE_calculate(data):\n",
    "    table = pd.pivot_table(data, values=['AD',\"CSG\",\"DSG\"], index=['ID'], aggfunc=np.sum)\n",
    "    return (table)"
   ]
  },
  {
   "cell_type": "code",
   "execution_count": 6,
   "id": "1c12c2a6",
   "metadata": {
    "code_folding": [
     0
    ]
   },
   "outputs": [],
   "source": [
    "def MLE_min (data):\n",
    "    mle = sum(data.min(axis=1))\n",
    "    data['min'] = data.min(axis=1)\n",
    "    return (mle,data)"
   ]
  },
  {
   "cell_type": "code",
   "execution_count": 7,
   "id": "a4f5c4d8",
   "metadata": {
    "code_folding": [
     0
    ]
   },
   "outputs": [],
   "source": [
    "def Cluster (data):\n",
    "    cluster = []\n",
    "    for i in range (data.shape[0]):\n",
    "        if data.iloc[i]['AD']== data.iloc[i]['min']:\n",
    "            cluster.append(1)\n",
    "        if data.iloc[i]['CSG']== data.iloc[i]['min']:\n",
    "            cluster.append(2)\n",
    "        if data.iloc[i]['DSG']== data.iloc[i]['min']:\n",
    "            cluster.append(3)\n",
    "    data['class'] = cluster\n",
    "    return(data)\n"
   ]
  },
  {
   "cell_type": "code",
   "execution_count": 8,
   "id": "72f82667",
   "metadata": {
    "code_folding": [
     0
    ]
   },
   "outputs": [],
   "source": [
    "def vLookup (data,table):\n",
    "    data = pd.merge(data, table['class'], on ='ID', how ='inner',)\n",
    "    return (data)"
   ]
  },
  {
   "cell_type": "code",
   "execution_count": 9,
   "id": "43481d2c",
   "metadata": {
    "code_folding": [
     0
    ]
   },
   "outputs": [],
   "source": [
    "def change_class (df1,df2,fit=0):\n",
    "    for i in range (df2.shape[0]):\n",
    "        if df2.iloc[i]['class']== df1.iloc[i]['class']:\n",
    "            fit+=1\n",
    "    return (fit/1734)"
   ]
  },
  {
   "cell_type": "code",
   "execution_count": 10,
   "id": "9de80f9f",
   "metadata": {
    "code_folding": [
     0
    ]
   },
   "outputs": [],
   "source": [
    "def N_class (data):\n",
    "    table2 = pd.pivot_table(data, values=[\"class\"], index=['ID'], aggfunc=np.mean)\n",
    "    \n",
    "    class1 = sum(table2['class'] == 1)\n",
    "    class2 = sum(table2['class'] == 2)\n",
    "    class3 = sum(table2['class'] == 3)\n",
    "    return(class1,class2,class3)"
   ]
  },
  {
   "cell_type": "code",
   "execution_count": 11,
   "id": "40044e5b",
   "metadata": {
    "code_folding": [
     0
    ]
   },
   "outputs": [],
   "source": [
    "def vector (data):\n",
    "    table2 = pd.pivot_table(data, values=['roundone','aftercc','aftercd', 'afterdc', 'afterdd'],\n",
    "                        index=[\"class\"], aggfunc=np.mean)\n",
    "    \n",
    "    AD0, ADCC, ADCD, ADDC, ADDD = table2.iloc[0,4],table2.iloc[0,0],table2.iloc[0,1],table2.iloc[0,2],table2.iloc[0,3]\n",
    "    CSG0, CSGCC, CSGCD, CSGDC, CSGDD =table2.iloc[1,4],table2.iloc[1,0],table2.iloc[1,1],table2.iloc[1,2],table2.iloc[1,3]\n",
    "    DSG0, DSGCC, DSGCD, DSGDC, DSGDD = table2.iloc[2,4],table2.iloc[2,0],table2.iloc[2,1],table2.iloc[2,2],table2.iloc[2,3]\n",
    "    \n",
    "    return(AD0, ADCC, ADCD, ADDC, ADDD\n",
    "          ,CSG0, CSGCC, CSGCD, CSGDC, CSGDD\n",
    "          ,DSG0, DSGCC, DSGCD, DSGDC, DSGDD)"
   ]
  },
  {
   "cell_type": "markdown",
   "id": "7ee4c80a",
   "metadata": {},
   "source": [
    "# Main"
   ]
  },
  {
   "cell_type": "code",
   "execution_count": 12,
   "id": "ae6df7ae",
   "metadata": {
    "code_folding": [
     0
    ]
   },
   "outputs": [],
   "source": [
    "def Main_MLE_K3 (data,AD0BB, ADCCBB, ADCDBB, ADDCBB, ADDDBB ,CSG0BB, CSGCCBB, CSGCDBB, CSGDCBB, CSGDDBB ,DSG0BB, DSGCCBB, DSGCDBB, DSGDCBB, DSGDDBB):\n",
    "    \n",
    "    class1 = []\n",
    "    class2 = []\n",
    "    class3 = []\n",
    "    MLE = []\n",
    "    class_change = []\n",
    "    \n",
    "    \n",
    "    \n",
    "    for i in range (1) :\n",
    "\n",
    "        if i >0 :\n",
    "            K3 = MLE_K3 (data,AD0BB, ADCCBB, ADCDBB, ADDCBB, ADDDBB ,CSG0BB, CSGCCBB, CSGCDBB,CSGDCBB, CSGDDBB ,DSG0BB, DSGCCBB, DSGCDBB, DSGDCBB, DSGDDBB)\n",
    "            table_K3 = MLE_calculate (K3)\n",
    "            mle , table_K3 = MLE_min(table_K3)\n",
    "            df_cluster_K3 = Cluster (table_K3)\n",
    "            fitt = change_class(df_cluster_K3k3,df_cluster_K3,fit=0)\n",
    "            df_vlook_K3 = vLookup (K3, table_K3)\n",
    "            class11,class22,class33 = N_class (df_vlook_K3)\n",
    "        \n",
    "            \n",
    "        else:\n",
    "            K3 = MLE_K3 (data,AD0BB, ADCCBB, ADCDBB, ADDCBB, ADDDBB ,CSG0BB, CSGCCBB, CSGCDBB,CSGDCBB, CSGDDBB ,DSG0BB, DSGCCBB, DSGCDBB, DSGDCBB, DSGDDBB)\n",
    "            table_K3 = MLE_calculate (K3)\n",
    "            mle , table_K3 = MLE_min(table_K3)\n",
    "            df_cluster_K3 = Cluster (table_K3)\n",
    "            df_vlook_K3 = vLookup (K3, table_K3)\n",
    "            class11,class22,class33 = N_class (df_vlook_K3)\n",
    "            fitt = 1\n",
    "            df_cluster_K3k3 = df_cluster_K3\n",
    "            \n",
    "        \n",
    "        AD0BB, ADCCBB, ADCDBB, ADDCBB, ADDDBB,CSG0BB, CSGCCBB, CSGCDBB, CSGDCBB, CSGDDBB,DSG0BB, DSGCCBB, DSGCDBB, DSGDCBB, DSGDDBB = vector(df_vlook_K3) \n",
    "          \n",
    "        \n",
    "        class_change.append(fitt)\n",
    "        MLE.append(mle)\n",
    "        class1.append(class11)\n",
    "        class2.append(class22)\n",
    "        class3.append(class33)\n",
    "    \n",
    "    \n",
    "    return(MLE, class1,class2,class3,class_change,AD0BB, ADCCBB, ADCDBB, ADDCBB, ADDDBB ,CSG0BB, CSGCCBB, CSGCDBB, CSGDCBB, CSGDDBB ,DSG0BB, DSGCCBB, DSGCDBB, DSGDCBB, DSGDDBB)\n",
    "\n"
   ]
  },
  {
   "cell_type": "markdown",
   "id": "3ea49eea",
   "metadata": {},
   "source": [
    "# Analysis"
   ]
  },
  {
   "cell_type": "code",
   "execution_count": null,
   "id": "78cb3070",
   "metadata": {},
   "outputs": [],
   "source": [
    "MLE, class11,class22,class33,class_change,AD0, ADCC, ADCD, ADDC, ADDD ,CSG0, CSGCC, CSGCD, CSGDC, CSGDD ,DSG0, DSGCC, DSGCD, DSGDC, DSGDD = Main_MLE_K3(df,AD0, ADCC, ADCD, ADDC, ADDD ,CSG0, CSGCC, CSGCD, CSGDC, CSGDD ,DSG0, DSGCC, DSGCD, DSGDC, DSGDD)"
   ]
  },
  {
   "cell_type": "code",
   "execution_count": null,
   "id": "f55a423a",
   "metadata": {},
   "outputs": [],
   "source": [
    "print (class11)\n",
    "\n",
    "print (class22)\n",
    "\n",
    "print (class33)\n",
    "\n",
    "print (class_change)\n",
    "\n",
    "print(MLE)"
   ]
  },
  {
   "cell_type": "code",
   "execution_count": null,
   "id": "0fa8b970",
   "metadata": {
    "deletable": false,
    "editable": false,
    "run_control": {
     "frozen": true
    }
   },
   "outputs": [],
   "source": [
    "MLE_Dd = pd.DataFrame([MLE_D, class11_B,class22_B,class33_B])\n",
    "MLE_Dd.to_excel(\"bb.xlsx\")"
   ]
  },
  {
   "cell_type": "code",
   "execution_count": null,
   "id": "b441437e",
   "metadata": {},
   "outputs": [],
   "source": []
  }
 ],
 "metadata": {
  "celltoolbar": "Raw Cell Format",
  "kernelspec": {
   "display_name": "Python 3 (ipykernel)",
   "language": "python",
   "name": "python3"
  },
  "language_info": {
   "codemirror_mode": {
    "name": "ipython",
    "version": 3
   },
   "file_extension": ".py",
   "mimetype": "text/x-python",
   "name": "python",
   "nbconvert_exporter": "python",
   "pygments_lexer": "ipython3",
   "version": "3.9.12"
  },
  "toc": {
   "base_numbering": 1,
   "nav_menu": {},
   "number_sections": true,
   "sideBar": true,
   "skip_h1_title": false,
   "title_cell": "Table of Contents",
   "title_sidebar": "Contents",
   "toc_cell": false,
   "toc_position": {
    "height": "calc(100% - 180px)",
    "left": "10px",
    "top": "150px",
    "width": "384px"
   },
   "toc_section_display": true,
   "toc_window_display": false
  },
  "varInspector": {
   "cols": {
    "lenName": 16,
    "lenType": 16,
    "lenVar": 40
   },
   "kernels_config": {
    "python": {
     "delete_cmd_postfix": "",
     "delete_cmd_prefix": "del ",
     "library": "var_list.py",
     "varRefreshCmd": "print(var_dic_list())"
    },
    "r": {
     "delete_cmd_postfix": ") ",
     "delete_cmd_prefix": "rm(",
     "library": "var_list.r",
     "varRefreshCmd": "cat(var_dic_list()) "
    }
   },
   "types_to_exclude": [
    "module",
    "function",
    "builtin_function_or_method",
    "instance",
    "_Feature"
   ],
   "window_display": false
  }
 },
 "nbformat": 4,
 "nbformat_minor": 5
}
